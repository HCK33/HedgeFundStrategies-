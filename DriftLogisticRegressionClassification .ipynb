{
 "cells": [
  {
   "cell_type": "code",
   "execution_count": 5,
   "metadata": {},
   "outputs": [],
   "source": [
    "import os\n",
    "import numpy as np\n",
    "import pandas as pd\n",
    "from sklearn import preprocessing\n",
    "\n",
    "import matplotlib.pyplot as plt\n",
    "plt.rc(\"font\", size=14)\n",
    "import seaborn as sns\n",
    "import statsmodels.api as sm\n",
    "import statsmodels.formula.api as smf\n",
    "from sklearn.linear_model import LogisticRegression\n",
    "from sklearn.model_selection import train_test_split\n",
    "sns.set(style=\"white\")\n",
    "sns.set(style=\"whitegrid\", color_codes=True)\n",
    "pd.set_option('display.max_rows', 20)\n",
    "pd.set_option('display.notebook_repr_html', True)\n",
    "pd.set_option('display.max_columns', 50)\n",
    "%matplotlib inline\n",
    "plt.style.use('ggplot')"
   ]
  },
  {
   "cell_type": "code",
   "execution_count": 6,
   "metadata": {},
   "outputs": [
    {
     "name": "stdout",
     "output_type": "stream",
     "text": [
      "(491, 41)\n",
      "['Symbol', 'Name', 'Date Public', 'Founded', 'MarketValue', 'PQ1EarningsDate', 'PQ1Variance', '-10 Before Earnings', '+10 Since Earnings', '+20 Since Earnings', '+30 Since Earnings', 'P/Q-2 Earnings Date', 'P/Q-2Variance', '-10 Before Earnings.1', '+10 Since Earnings.1', '+20 Since Earnings.1', '+30 Since Earnings.1', 'P/Q-3 Earnings Date', 'P/Q-3Variance', '-10 Before Earnings.2', '+10 Since Earnings.2', '+20 Since Earnings.2', '+30 Since Earnings.2', 'P/Q-4 Earnings Date', 'P/Q-4 % Variance', '-10 Before Earnings.3', '+10 Since Earnings.3', '+20 Since Earnings.3', '+30 Since Earnings.3', 'P/Q-5 Earnings Date', 'P/Q-5 % Variance', '-10 Before Earnings.4', '+10 Since Earnings.4', '+20 Since Earnings.4', '+30 Since Earnings.4', 'P/Q-6 Earnings Date', 'P/Q-6 % Variance', '-10 Before Earnings.5', '+10 Since Earnings.5', '+20 Since Earnings.5', '+30 Since Earnings.5']\n"
     ]
    }
   ],
   "source": [
    "data = pd.read_csv('EPSFINAL.csv')\n",
    "data = data.dropna()\n",
    "print(data.shape)\n",
    "print(list(data.columns))"
   ]
  },
  {
   "cell_type": "code",
   "execution_count": 7,
   "metadata": {},
   "outputs": [
    {
     "data": {
      "text/html": [
       "<div>\n",
       "<style scoped>\n",
       "    .dataframe tbody tr th:only-of-type {\n",
       "        vertical-align: middle;\n",
       "    }\n",
       "\n",
       "    .dataframe tbody tr th {\n",
       "        vertical-align: top;\n",
       "    }\n",
       "\n",
       "    .dataframe thead th {\n",
       "        text-align: right;\n",
       "    }\n",
       "</style>\n",
       "<table border=\"1\" class=\"dataframe\">\n",
       "  <thead>\n",
       "    <tr style=\"text-align: right;\">\n",
       "      <th></th>\n",
       "      <th>Symbol</th>\n",
       "      <th>Name</th>\n",
       "      <th>Date Public</th>\n",
       "      <th>Founded</th>\n",
       "      <th>MarketValue</th>\n",
       "      <th>PQ1EarningsDate</th>\n",
       "      <th>PQ1Variance</th>\n",
       "      <th>-10 Before Earnings</th>\n",
       "      <th>+10 Since Earnings</th>\n",
       "      <th>+20 Since Earnings</th>\n",
       "      <th>+30 Since Earnings</th>\n",
       "      <th>P/Q-2 Earnings Date</th>\n",
       "      <th>P/Q-2Variance</th>\n",
       "      <th>-10 Before Earnings.1</th>\n",
       "      <th>+10 Since Earnings.1</th>\n",
       "      <th>+20 Since Earnings.1</th>\n",
       "      <th>+30 Since Earnings.1</th>\n",
       "      <th>P/Q-3 Earnings Date</th>\n",
       "      <th>P/Q-3Variance</th>\n",
       "      <th>-10 Before Earnings.2</th>\n",
       "      <th>+10 Since Earnings.2</th>\n",
       "      <th>+20 Since Earnings.2</th>\n",
       "      <th>+30 Since Earnings.2</th>\n",
       "      <th>P/Q-4 Earnings Date</th>\n",
       "      <th>P/Q-4 % Variance</th>\n",
       "      <th>-10 Before Earnings.3</th>\n",
       "      <th>+10 Since Earnings.3</th>\n",
       "      <th>+20 Since Earnings.3</th>\n",
       "      <th>+30 Since Earnings.3</th>\n",
       "      <th>P/Q-5 Earnings Date</th>\n",
       "      <th>P/Q-5 % Variance</th>\n",
       "      <th>-10 Before Earnings.4</th>\n",
       "      <th>+10 Since Earnings.4</th>\n",
       "      <th>+20 Since Earnings.4</th>\n",
       "      <th>+30 Since Earnings.4</th>\n",
       "      <th>P/Q-6 Earnings Date</th>\n",
       "      <th>P/Q-6 % Variance</th>\n",
       "      <th>-10 Before Earnings.5</th>\n",
       "      <th>+10 Since Earnings.5</th>\n",
       "      <th>+20 Since Earnings.5</th>\n",
       "      <th>+30 Since Earnings.5</th>\n",
       "    </tr>\n",
       "  </thead>\n",
       "  <tbody>\n",
       "    <tr>\n",
       "      <td>0</td>\n",
       "      <td>AAPL</td>\n",
       "      <td>Apple Inc.</td>\n",
       "      <td>11/05/1984</td>\n",
       "      <td>1976.0</td>\n",
       "      <td>1,216,252</td>\n",
       "      <td>1/29/2020</td>\n",
       "      <td>10%</td>\n",
       "      <td>0.55%</td>\n",
       "      <td>-2.42%</td>\n",
       "      <td>-4.58%</td>\n",
       "      <td>7.36%</td>\n",
       "      <td>10/31/2019</td>\n",
       "      <td>7%</td>\n",
       "      <td>1.87%</td>\n",
       "      <td>3.53%</td>\n",
       "      <td>0.22%</td>\n",
       "      <td>2.00%</td>\n",
       "      <td>7/31/2019</td>\n",
       "      <td>4%</td>\n",
       "      <td>1.78%</td>\n",
       "      <td>-0.28%</td>\n",
       "      <td>-0.39%</td>\n",
       "      <td>4.25%</td>\n",
       "      <td>5/1/2019</td>\n",
       "      <td>4%</td>\n",
       "      <td>-0.67%</td>\n",
       "      <td>-7.00%</td>\n",
       "      <td>-4.49%</td>\n",
       "      <td>5.11%</td>\n",
       "      <td>1/3/2019</td>\n",
       "      <td>-10%</td>\n",
       "      <td>-1.64%</td>\n",
       "      <td>1.94%</td>\n",
       "      <td>4.14%</td>\n",
       "      <td>-0.36%</td>\n",
       "      <td>11/2/2018</td>\n",
       "      <td>5%</td>\n",
       "      <td>3.92%</td>\n",
       "      <td>-7.40%</td>\n",
       "      <td>-6.54%</td>\n",
       "      <td>-1.47%</td>\n",
       "    </tr>\n",
       "    <tr>\n",
       "      <td>1</td>\n",
       "      <td>MSFT</td>\n",
       "      <td>Microsoft Corporation</td>\n",
       "      <td>3/13/1986</td>\n",
       "      <td>1975.0</td>\n",
       "      <td>1,208,069.0</td>\n",
       "      <td>1/30/2020</td>\n",
       "      <td>15%</td>\n",
       "      <td>3.90%</td>\n",
       "      <td>3.46%</td>\n",
       "      <td>0.29%</td>\n",
       "      <td>7.13%</td>\n",
       "      <td>10/24/2019</td>\n",
       "      <td>11%</td>\n",
       "      <td>-3.68%</td>\n",
       "      <td>0.49%</td>\n",
       "      <td>2.94%</td>\n",
       "      <td>0.04%</td>\n",
       "      <td>7/19/2019</td>\n",
       "      <td>13%</td>\n",
       "      <td>-0.77%</td>\n",
       "      <td>1.74%</td>\n",
       "      <td>0.73%</td>\n",
       "      <td>0.02%</td>\n",
       "      <td>4/25/2019</td>\n",
       "      <td>14%</td>\n",
       "      <td>3.09%</td>\n",
       "      <td>-0.98%</td>\n",
       "      <td>2.12%</td>\n",
       "      <td>2.18%</td>\n",
       "      <td>1/31/2019</td>\n",
       "      <td>1%</td>\n",
       "      <td>-1.47%</td>\n",
       "      <td>0.72%</td>\n",
       "      <td>3.07%</td>\n",
       "      <td>2.69%</td>\n",
       "      <td>10/25/2018</td>\n",
       "      <td>18%</td>\n",
       "      <td>1.05%</td>\n",
       "      <td>-0.67%</td>\n",
       "      <td>-1.62%</td>\n",
       "      <td>4.07%</td>\n",
       "    </tr>\n",
       "    <tr>\n",
       "      <td>2</td>\n",
       "      <td>AMZN</td>\n",
       "      <td>Amazon.com, Inc.</td>\n",
       "      <td>5/15/1997</td>\n",
       "      <td>1994.0</td>\n",
       "      <td>888,591.6</td>\n",
       "      <td>1/31/2020</td>\n",
       "      <td>60%</td>\n",
       "      <td>0.62%</td>\n",
       "      <td>1.35%</td>\n",
       "      <td>-0.03%</td>\n",
       "      <td>-8.65%</td>\n",
       "      <td>10/25/2019</td>\n",
       "      <td>-8%</td>\n",
       "      <td>1.09%</td>\n",
       "      <td>-1.04%</td>\n",
       "      <td>-2.90%</td>\n",
       "      <td>-0.72%</td>\n",
       "      <td>7/26/2019</td>\n",
       "      <td>-6%</td>\n",
       "      <td>-1.59%</td>\n",
       "      <td>-3.53%</td>\n",
       "      <td>-0.88%</td>\n",
       "      <td>-0.02%</td>\n",
       "      <td>4/26/2019</td>\n",
       "      <td>51%</td>\n",
       "      <td>1.67%</td>\n",
       "      <td>-1.30%</td>\n",
       "      <td>-1.68%</td>\n",
       "      <td>-0.14%</td>\n",
       "      <td>2/1/2019</td>\n",
       "      <td>7%</td>\n",
       "      <td>-1.35%</td>\n",
       "      <td>-3.83%</td>\n",
       "      <td>4.75%</td>\n",
       "      <td>1.66%</td>\n",
       "      <td>10/26/2018</td>\n",
       "      <td>86%</td>\n",
       "      <td>4.42%</td>\n",
       "      <td>-0.45%</td>\n",
       "      <td>-3.96%</td>\n",
       "      <td>5.17%</td>\n",
       "    </tr>\n",
       "    <tr>\n",
       "      <td>3</td>\n",
       "      <td>GOOGL</td>\n",
       "      <td>Alphabet Inc. Class A</td>\n",
       "      <td>8/19/2004</td>\n",
       "      <td>2015.0</td>\n",
       "      <td>836,412.7</td>\n",
       "      <td>2/4/2020</td>\n",
       "      <td>23%</td>\n",
       "      <td>2.57%</td>\n",
       "      <td>2.68%</td>\n",
       "      <td>-1.86%</td>\n",
       "      <td>-12.11%</td>\n",
       "      <td>10/29/2019</td>\n",
       "      <td>-18%</td>\n",
       "      <td>3.36%</td>\n",
       "      <td>0.99%</td>\n",
       "      <td>-0.43%</td>\n",
       "      <td>2.27%</td>\n",
       "      <td>7/26/2019</td>\n",
       "      <td>28%</td>\n",
       "      <td>-0.94%</td>\n",
       "      <td>-1.08%</td>\n",
       "      <td>-0.65%</td>\n",
       "      <td>-0.21%</td>\n",
       "      <td>4/30/2019</td>\n",
       "      <td>-10%</td>\n",
       "      <td>4.73%</td>\n",
       "      <td>-2.57%</td>\n",
       "      <td>1.37%</td>\n",
       "      <td>-7.28%</td>\n",
       "      <td>2/5/2019</td>\n",
       "      <td>18%</td>\n",
       "      <td>1.02%</td>\n",
       "      <td>-4.66%</td>\n",
       "      <td>4.35%</td>\n",
       "      <td>3.76%</td>\n",
       "      <td>10/26/2018</td>\n",
       "      <td>25%</td>\n",
       "      <td>1.95%</td>\n",
       "      <td>-5.31%</td>\n",
       "      <td>1.74%</td>\n",
       "      <td>1.80%</td>\n",
       "    </tr>\n",
       "    <tr>\n",
       "      <td>4</td>\n",
       "      <td>FB</td>\n",
       "      <td>Facebook, Inc. Class A</td>\n",
       "      <td>5/18/2012</td>\n",
       "      <td>2004.0</td>\n",
       "      <td>485,374.8</td>\n",
       "      <td>1/30/2020</td>\n",
       "      <td>1%</td>\n",
       "      <td>2.16%</td>\n",
       "      <td>-1.14%</td>\n",
       "      <td>2.41%</td>\n",
       "      <td>-2.44%</td>\n",
       "      <td>10/31/2019</td>\n",
       "      <td>11%</td>\n",
       "      <td>-2.61%</td>\n",
       "      <td>-1.27%</td>\n",
       "      <td>2.86%</td>\n",
       "      <td>-4.69%</td>\n",
       "      <td>7/25/2019</td>\n",
       "      <td>-52%</td>\n",
       "      <td>0.00%</td>\n",
       "      <td>-3.13%</td>\n",
       "      <td>-3.84%</td>\n",
       "      <td>1.05%</td>\n",
       "      <td>4/25/2019</td>\n",
       "      <td>-47%</td>\n",
       "      <td>1.10%</td>\n",
       "      <td>-0.54%</td>\n",
       "      <td>-2.55%</td>\n",
       "      <td>-6.11%</td>\n",
       "      <td>1/31/2019</td>\n",
       "      <td>9%</td>\n",
       "      <td>-1.79%</td>\n",
       "      <td>-3.29%</td>\n",
       "      <td>-3.22%</td>\n",
       "      <td>1.96%</td>\n",
       "      <td>10/31/2018</td>\n",
       "      <td>20%</td>\n",
       "      <td>-3.41%</td>\n",
       "      <td>-4.83%</td>\n",
       "      <td>-5.24%</td>\n",
       "      <td>8.81%</td>\n",
       "    </tr>\n",
       "  </tbody>\n",
       "</table>\n",
       "</div>"
      ],
      "text/plain": [
       "  Symbol                    Name Date Public  Founded  MarketValue  \\\n",
       "0   AAPL              Apple Inc.  11/05/1984   1976.0    1,216,252   \n",
       "1   MSFT   Microsoft Corporation   3/13/1986   1975.0  1,208,069.0   \n",
       "2   AMZN        Amazon.com, Inc.   5/15/1997   1994.0    888,591.6   \n",
       "3  GOOGL   Alphabet Inc. Class A   8/19/2004   2015.0    836,412.7   \n",
       "4     FB  Facebook, Inc. Class A   5/18/2012   2004.0    485,374.8   \n",
       "\n",
       "  PQ1EarningsDate PQ1Variance -10 Before Earnings +10 Since Earnings  \\\n",
       "0       1/29/2020         10%               0.55%             -2.42%   \n",
       "1       1/30/2020         15%               3.90%              3.46%   \n",
       "2       1/31/2020         60%               0.62%              1.35%   \n",
       "3        2/4/2020         23%               2.57%              2.68%   \n",
       "4       1/30/2020          1%               2.16%             -1.14%   \n",
       "\n",
       "  +20 Since Earnings +30 Since Earnings P/Q-2 Earnings Date P/Q-2Variance  \\\n",
       "0             -4.58%              7.36%          10/31/2019            7%   \n",
       "1              0.29%              7.13%          10/24/2019           11%   \n",
       "2             -0.03%             -8.65%          10/25/2019           -8%   \n",
       "3             -1.86%            -12.11%          10/29/2019          -18%   \n",
       "4              2.41%             -2.44%          10/31/2019           11%   \n",
       "\n",
       "  -10 Before Earnings.1 +10 Since Earnings.1 +20 Since Earnings.1  \\\n",
       "0                 1.87%                3.53%                0.22%   \n",
       "1                -3.68%                0.49%                2.94%   \n",
       "2                 1.09%               -1.04%               -2.90%   \n",
       "3                 3.36%                0.99%               -0.43%   \n",
       "4                -2.61%               -1.27%                2.86%   \n",
       "\n",
       "  +30 Since Earnings.1 P/Q-3 Earnings Date P/Q-3Variance  \\\n",
       "0                2.00%           7/31/2019            4%   \n",
       "1                0.04%           7/19/2019           13%   \n",
       "2               -0.72%           7/26/2019           -6%   \n",
       "3                2.27%           7/26/2019           28%   \n",
       "4               -4.69%           7/25/2019          -52%   \n",
       "\n",
       "  -10 Before Earnings.2 +10 Since Earnings.2 +20 Since Earnings.2  \\\n",
       "0                 1.78%               -0.28%               -0.39%   \n",
       "1                -0.77%                1.74%                0.73%   \n",
       "2                -1.59%               -3.53%               -0.88%   \n",
       "3                -0.94%               -1.08%               -0.65%   \n",
       "4                 0.00%               -3.13%               -3.84%   \n",
       "\n",
       "  +30 Since Earnings.2 P/Q-4 Earnings Date P/Q-4 % Variance  \\\n",
       "0                4.25%            5/1/2019               4%   \n",
       "1                0.02%           4/25/2019              14%   \n",
       "2               -0.02%           4/26/2019              51%   \n",
       "3               -0.21%           4/30/2019             -10%   \n",
       "4                1.05%           4/25/2019             -47%   \n",
       "\n",
       "  -10 Before Earnings.3 +10 Since Earnings.3 +20 Since Earnings.3  \\\n",
       "0                -0.67%               -7.00%               -4.49%   \n",
       "1                 3.09%               -0.98%                2.12%   \n",
       "2                 1.67%               -1.30%               -1.68%   \n",
       "3                 4.73%               -2.57%                1.37%   \n",
       "4                 1.10%               -0.54%               -2.55%   \n",
       "\n",
       "  +30 Since Earnings.3 P/Q-5 Earnings Date P/Q-5 % Variance  \\\n",
       "0                5.11%            1/3/2019             -10%   \n",
       "1                2.18%           1/31/2019               1%   \n",
       "2               -0.14%            2/1/2019               7%   \n",
       "3               -7.28%            2/5/2019              18%   \n",
       "4               -6.11%           1/31/2019               9%   \n",
       "\n",
       "  -10 Before Earnings.4 +10 Since Earnings.4 +20 Since Earnings.4  \\\n",
       "0                -1.64%                1.94%                4.14%   \n",
       "1                -1.47%                0.72%                3.07%   \n",
       "2                -1.35%               -3.83%                4.75%   \n",
       "3                 1.02%               -4.66%                4.35%   \n",
       "4                -1.79%               -3.29%               -3.22%   \n",
       "\n",
       "  +30 Since Earnings.4 P/Q-6 Earnings Date P/Q-6 % Variance  \\\n",
       "0               -0.36%           11/2/2018               5%   \n",
       "1                2.69%          10/25/2018              18%   \n",
       "2                1.66%          10/26/2018              86%   \n",
       "3                3.76%          10/26/2018              25%   \n",
       "4                1.96%          10/31/2018              20%   \n",
       "\n",
       "  -10 Before Earnings.5 +10 Since Earnings.5 +20 Since Earnings.5  \\\n",
       "0                 3.92%               -7.40%               -6.54%   \n",
       "1                 1.05%               -0.67%               -1.62%   \n",
       "2                 4.42%               -0.45%               -3.96%   \n",
       "3                 1.95%               -5.31%                1.74%   \n",
       "4                -3.41%               -4.83%               -5.24%   \n",
       "\n",
       "  +30 Since Earnings.5  \n",
       "0               -1.47%  \n",
       "1                4.07%  \n",
       "2                5.17%  \n",
       "3                1.80%  \n",
       "4                8.81%  "
      ]
     },
     "execution_count": 7,
     "metadata": {},
     "output_type": "execute_result"
    }
   ],
   "source": [
    "data.head(5)"
   ]
  },
  {
   "cell_type": "code",
   "execution_count": 8,
   "metadata": {},
   "outputs": [
    {
     "data": {
      "text/plain": [
       "{dtype('float64'): Index(['Founded'], dtype='object'),\n",
       " dtype('O'): Index(['Symbol', 'Name', 'Date Public', 'MarketValue', 'PQ1EarningsDate',\n",
       "        'PQ1Variance', '-10 Before Earnings', '+10 Since Earnings',\n",
       "        '+20 Since Earnings', '+30 Since Earnings', 'P/Q-2 Earnings Date',\n",
       "        'P/Q-2Variance', '-10 Before Earnings.1', '+10 Since Earnings.1',\n",
       "        '+20 Since Earnings.1', '+30 Since Earnings.1', 'P/Q-3 Earnings Date',\n",
       "        'P/Q-3Variance', '-10 Before Earnings.2', '+10 Since Earnings.2',\n",
       "        '+20 Since Earnings.2', '+30 Since Earnings.2', 'P/Q-4 Earnings Date',\n",
       "        'P/Q-4 % Variance', '-10 Before Earnings.3', '+10 Since Earnings.3',\n",
       "        '+20 Since Earnings.3', '+30 Since Earnings.3', 'P/Q-5 Earnings Date',\n",
       "        'P/Q-5 % Variance', '-10 Before Earnings.4', '+10 Since Earnings.4',\n",
       "        '+20 Since Earnings.4', '+30 Since Earnings.4', 'P/Q-6 Earnings Date',\n",
       "        'P/Q-6 % Variance', '-10 Before Earnings.5', '+10 Since Earnings.5',\n",
       "        '+20 Since Earnings.5', '+30 Since Earnings.5'],\n",
       "       dtype='object')}"
      ]
     },
     "execution_count": 8,
     "metadata": {},
     "output_type": "execute_result"
    }
   ],
   "source": [
    "data.columns.to_series().groupby(data.dtypes).groups"
   ]
  },
  {
   "cell_type": "code",
   "execution_count": 9,
   "metadata": {},
   "outputs": [
    {
     "data": {
      "text/plain": [
       "Symbol                    object\n",
       "Name                      object\n",
       "Date Public               object\n",
       "Founded                  float64\n",
       "MarketValue               object\n",
       "                          ...   \n",
       "P/Q-6 % Variance          object\n",
       "-10 Before Earnings.5     object\n",
       "+10 Since Earnings.5      object\n",
       "+20 Since Earnings.5      object\n",
       "+30 Since Earnings.5      object\n",
       "Length: 41, dtype: object"
      ]
     },
     "execution_count": 9,
     "metadata": {},
     "output_type": "execute_result"
    }
   ],
   "source": [
    "data.dtypes"
   ]
  },
  {
   "cell_type": "markdown",
   "metadata": {},
   "source": [
    "## Data Transformations: Date to Age"
   ]
  },
  {
   "cell_type": "code",
   "execution_count": 10,
   "metadata": {},
   "outputs": [],
   "source": [
    "df = data[['Name','Date Public','MarketValue','PQ1Variance','+10 Since Earnings','+20 Since Earnings','+30 Since Earnings']]"
   ]
  },
  {
   "cell_type": "code",
   "execution_count": 11,
   "metadata": {},
   "outputs": [],
   "source": [
    "import datetime"
   ]
  },
  {
   "cell_type": "code",
   "execution_count": 12,
   "metadata": {},
   "outputs": [],
   "source": [
    "todaydate = datetime.datetime.today()"
   ]
  },
  {
   "cell_type": "markdown",
   "metadata": {},
   "source": [
    "## Create New Column in DF "
   ]
  },
  {
   "cell_type": "code",
   "execution_count": 13,
   "metadata": {},
   "outputs": [
    {
     "name": "stderr",
     "output_type": "stream",
     "text": [
      "/opt/anaconda3/lib/python3.7/site-packages/ipykernel_launcher.py:1: SettingWithCopyWarning: \n",
      "A value is trying to be set on a copy of a slice from a DataFrame.\n",
      "Try using .loc[row_indexer,col_indexer] = value instead\n",
      "\n",
      "See the caveats in the documentation: http://pandas.pydata.org/pandas-docs/stable/user_guide/indexing.html#returning-a-view-versus-a-copy\n",
      "  \"\"\"Entry point for launching an IPython kernel.\n"
     ]
    }
   ],
   "source": [
    "df['Age'] = (todaydate - pd.to_datetime(df['Date Public'])).astype('<m8[Y]')"
   ]
  },
  {
   "cell_type": "code",
   "execution_count": 14,
   "metadata": {},
   "outputs": [
    {
     "data": {
      "text/html": [
       "<div>\n",
       "<style scoped>\n",
       "    .dataframe tbody tr th:only-of-type {\n",
       "        vertical-align: middle;\n",
       "    }\n",
       "\n",
       "    .dataframe tbody tr th {\n",
       "        vertical-align: top;\n",
       "    }\n",
       "\n",
       "    .dataframe thead th {\n",
       "        text-align: right;\n",
       "    }\n",
       "</style>\n",
       "<table border=\"1\" class=\"dataframe\">\n",
       "  <thead>\n",
       "    <tr style=\"text-align: right;\">\n",
       "      <th></th>\n",
       "      <th>Name</th>\n",
       "      <th>Date Public</th>\n",
       "      <th>MarketValue</th>\n",
       "      <th>PQ1Variance</th>\n",
       "      <th>+10 Since Earnings</th>\n",
       "      <th>+20 Since Earnings</th>\n",
       "      <th>+30 Since Earnings</th>\n",
       "      <th>Age</th>\n",
       "    </tr>\n",
       "  </thead>\n",
       "  <tbody>\n",
       "    <tr>\n",
       "      <td>0</td>\n",
       "      <td>Apple Inc.</td>\n",
       "      <td>11/05/1984</td>\n",
       "      <td>1,216,252</td>\n",
       "      <td>10%</td>\n",
       "      <td>-2.42%</td>\n",
       "      <td>-4.58%</td>\n",
       "      <td>7.36%</td>\n",
       "      <td>35.0</td>\n",
       "    </tr>\n",
       "    <tr>\n",
       "      <td>1</td>\n",
       "      <td>Microsoft Corporation</td>\n",
       "      <td>3/13/1986</td>\n",
       "      <td>1,208,069.0</td>\n",
       "      <td>15%</td>\n",
       "      <td>3.46%</td>\n",
       "      <td>0.29%</td>\n",
       "      <td>7.13%</td>\n",
       "      <td>34.0</td>\n",
       "    </tr>\n",
       "    <tr>\n",
       "      <td>2</td>\n",
       "      <td>Amazon.com, Inc.</td>\n",
       "      <td>5/15/1997</td>\n",
       "      <td>888,591.6</td>\n",
       "      <td>60%</td>\n",
       "      <td>1.35%</td>\n",
       "      <td>-0.03%</td>\n",
       "      <td>-8.65%</td>\n",
       "      <td>22.0</td>\n",
       "    </tr>\n",
       "    <tr>\n",
       "      <td>3</td>\n",
       "      <td>Alphabet Inc. Class A</td>\n",
       "      <td>8/19/2004</td>\n",
       "      <td>836,412.7</td>\n",
       "      <td>23%</td>\n",
       "      <td>2.68%</td>\n",
       "      <td>-1.86%</td>\n",
       "      <td>-12.11%</td>\n",
       "      <td>15.0</td>\n",
       "    </tr>\n",
       "    <tr>\n",
       "      <td>4</td>\n",
       "      <td>Facebook, Inc. Class A</td>\n",
       "      <td>5/18/2012</td>\n",
       "      <td>485,374.8</td>\n",
       "      <td>1%</td>\n",
       "      <td>-1.14%</td>\n",
       "      <td>2.41%</td>\n",
       "      <td>-2.44%</td>\n",
       "      <td>7.0</td>\n",
       "    </tr>\n",
       "  </tbody>\n",
       "</table>\n",
       "</div>"
      ],
      "text/plain": [
       "                     Name Date Public  MarketValue PQ1Variance  \\\n",
       "0              Apple Inc.  11/05/1984    1,216,252         10%   \n",
       "1   Microsoft Corporation   3/13/1986  1,208,069.0         15%   \n",
       "2        Amazon.com, Inc.   5/15/1997    888,591.6         60%   \n",
       "3   Alphabet Inc. Class A   8/19/2004    836,412.7         23%   \n",
       "4  Facebook, Inc. Class A   5/18/2012    485,374.8          1%   \n",
       "\n",
       "  +10 Since Earnings +20 Since Earnings +30 Since Earnings   Age  \n",
       "0             -2.42%             -4.58%              7.36%  35.0  \n",
       "1              3.46%              0.29%              7.13%  34.0  \n",
       "2              1.35%             -0.03%             -8.65%  22.0  \n",
       "3              2.68%             -1.86%            -12.11%  15.0  \n",
       "4             -1.14%              2.41%             -2.44%   7.0  "
      ]
     },
     "execution_count": 14,
     "metadata": {},
     "output_type": "execute_result"
    }
   ],
   "source": [
    "df.head(5)"
   ]
  },
  {
   "cell_type": "code",
   "execution_count": 15,
   "metadata": {},
   "outputs": [],
   "source": [
    "## CAN WE CREATE MULTIPLE CATEGORIES OFF OF VARIANCE? Like high and low? "
   ]
  },
  {
   "cell_type": "code",
   "execution_count": null,
   "metadata": {},
   "outputs": [],
   "source": [
    "df.dtypes"
   ]
  },
  {
   "cell_type": "markdown",
   "metadata": {},
   "source": [
    "## Convert Objects to Floats & Integers "
   ]
  },
  {
   "cell_type": "code",
   "execution_count": null,
   "metadata": {},
   "outputs": [],
   "source": [
    "def convertMarketValue(valueInString):\n",
    "    return float(valueInString.replace(\",\",\"\"))"
   ]
  },
  {
   "cell_type": "code",
   "execution_count": null,
   "metadata": {},
   "outputs": [],
   "source": [
    "df['MarketValue'] = df['MarketValue'].apply(convertMarketValue)"
   ]
  },
  {
   "cell_type": "code",
   "execution_count": null,
   "metadata": {},
   "outputs": [],
   "source": [
    "df['PQ1Variance'] = df['PQ1Variance'].apply(lambda x: np.nan if x in ['-'] else x[:-1]).astype(float)/100"
   ]
  },
  {
   "cell_type": "code",
   "execution_count": null,
   "metadata": {},
   "outputs": [],
   "source": [
    "df['+10 Since Earnings'] = df['+10 Since Earnings'].apply(lambda x: np.nan if x in ['-'] else x[:-1]).astype(float)/100"
   ]
  },
  {
   "cell_type": "code",
   "execution_count": null,
   "metadata": {},
   "outputs": [],
   "source": [
    "df['+20 Since Earnings'] = df['+20 Since Earnings'].apply(lambda x: np.nan if x in ['-'] else x[:-1]).astype(float)/100"
   ]
  },
  {
   "cell_type": "code",
   "execution_count": null,
   "metadata": {},
   "outputs": [],
   "source": [
    "df['+30 Since Earnings'] = df['+30 Since Earnings'].apply(lambda x: np.nan if x in ['-'] else x[:-1]).astype(float)/100"
   ]
  },
  {
   "cell_type": "code",
   "execution_count": null,
   "metadata": {},
   "outputs": [],
   "source": [
    "criteria = [df['Age']<=10, df['Age'].between(10,20,inclusive=False), df['Age']>=20]\n",
    "values = [1,2,3]\n",
    "df['AGECAT'] = np.select(criteria,values)"
   ]
  },
  {
   "cell_type": "code",
   "execution_count": null,
   "metadata": {},
   "outputs": [],
   "source": [
    "criteria = [df['MarketValue']<=10222,df['MarketValue'].between(10222,43868,inclusive=False),df['MarketValue']>=43868.07]\n",
    "values = [1,2,3]\n",
    "df['MRKTVCAT'] = np.select(criteria,values)"
   ]
  },
  {
   "cell_type": "code",
   "execution_count": null,
   "metadata": {},
   "outputs": [],
   "source": [
    "criteria = [df['PQ1Variance']<=0, df['PQ1Variance']>=0]\n",
    "values = [0,1]\n",
    "df['ExceedForecast'] = np.select(criteria,values)"
   ]
  },
  {
   "cell_type": "code",
   "execution_count": null,
   "metadata": {},
   "outputs": [],
   "source": [
    "criteria = [df['+10 Since Earnings']<=0, df['+10 Since Earnings']>=0]\n",
    "values = [0,1]\n",
    "df['y'] = np.select(criteria,values)"
   ]
  },
  {
   "cell_type": "code",
   "execution_count": null,
   "metadata": {},
   "outputs": [],
   "source": [
    "criteria = [df['+20 Since Earnings']<=0, df['+20 Since Earnings']>=0]\n",
    "values = [0,1]\n",
    "df['+20Gain/Loss'] = np.select(criteria,values)"
   ]
  },
  {
   "cell_type": "code",
   "execution_count": null,
   "metadata": {},
   "outputs": [],
   "source": [
    "criteria = [df['+30 Since Earnings']<=0, df['+30 Since Earnings']>=0]\n",
    "values = [0,1]\n",
    "df['+30Gain/Loss'] = np.select(criteria,values)"
   ]
  },
  {
   "cell_type": "code",
   "execution_count": null,
   "metadata": {},
   "outputs": [],
   "source": [
    "df.head(5)"
   ]
  },
  {
   "cell_type": "code",
   "execution_count": null,
   "metadata": {},
   "outputs": [],
   "source": [
    "df.describe()"
   ]
  },
  {
   "cell_type": "markdown",
   "metadata": {},
   "source": [
    "## Ensure Data Types APPROPRIATE"
   ]
  },
  {
   "cell_type": "code",
   "execution_count": null,
   "metadata": {},
   "outputs": [],
   "source": [
    "df.dtypes"
   ]
  },
  {
   "cell_type": "code",
   "execution_count": null,
   "metadata": {},
   "outputs": [],
   "source": [
    "df['y'].value_counts()"
   ]
  },
  {
   "cell_type": "code",
   "execution_count": null,
   "metadata": {},
   "outputs": [],
   "source": [
    "count_no_sub = len(df[df['y']==0])\n",
    "count_sub = len(df[df['y']==1])\n",
    "pct_of_no_sub = count_no_sub/(count_no_sub+count_sub)\n",
    "print(\"percentage of Companies that Lost SV\", pct_of_no_sub*100)\n",
    "pct_of_sub = count_sub/(count_no_sub+count_sub)\n",
    "print(\"percentage of companies that gained SV\", pct_of_sub*100)\n"
   ]
  },
  {
   "cell_type": "code",
   "execution_count": null,
   "metadata": {},
   "outputs": [],
   "source": [
    "sns.countplot(x='y',data=df, palette='hls')\n",
    "plt.show()"
   ]
  },
  {
   "cell_type": "code",
   "execution_count": null,
   "metadata": {},
   "outputs": [],
   "source": [
    "## I want Y to be +10 Earnings: \"Yes, it increased in value based off of X\""
   ]
  },
  {
   "cell_type": "code",
   "execution_count": null,
   "metadata": {},
   "outputs": [],
   "source": [
    "## Train and test seperate "
   ]
  },
  {
   "cell_type": "code",
   "execution_count": null,
   "metadata": {},
   "outputs": [],
   "source": [
    "%matplotlib inline\n",
    "pd.crosstab(df.MRKTVCAT,df.y).plot(kind='bar')\n",
    "plt.title('Drift by Mrkt Cap Size')\n",
    "plt.xlabel('Mrkt Cap Size')\n",
    "plt.ylabel('Frequency of Drift')"
   ]
  },
  {
   "cell_type": "code",
   "execution_count": null,
   "metadata": {},
   "outputs": [],
   "source": [
    "%matplotlib inline\n",
    "pd.crosstab(df.AGECAT,df.y).plot(kind='bar')\n",
    "plt.title('Drift by Mrkt Cap Size')\n",
    "plt.xlabel('AGE CATEGORY')\n",
    "plt.ylabel('Frequency of Drift')"
   ]
  },
  {
   "cell_type": "code",
   "execution_count": null,
   "metadata": {},
   "outputs": [],
   "source": [
    "%matplotlib inline\n",
    "pd.crosstab(df.ExceedForecast,df.y).plot(kind='bar')\n",
    "plt.title('Drift: ExceedForecast')\n",
    "plt.xlabel('')\n",
    "plt.ylabel('Frequency of Drift')"
   ]
  },
  {
   "cell_type": "code",
   "execution_count": null,
   "metadata": {},
   "outputs": [],
   "source": [
    "##SHOULD WE CONCATENATE TO CREATE A SUPER VARIABLE? \n"
   ]
  },
  {
   "cell_type": "code",
   "execution_count": null,
   "metadata": {},
   "outputs": [],
   "source": [
    "X = df.loc[:, df.columns != 'y']\n",
    "y = df.loc[:, df.columns == 'y']"
   ]
  },
  {
   "cell_type": "code",
   "execution_count": null,
   "metadata": {},
   "outputs": [],
   "source": [
    "from imblearn.over_sampling import SMOTE\n",
    "\n",
    "os = SMOTE(random_state=0)\n",
    "X_train, X_test, y_train, y_test = train_test_split(X, y, test_size=0.3, random_state=0)\n",
    "columns = X_train.columns\n",
    "\n",
    "os_data_X,os_data_y=os.fit_sample(X_train, y_train)\n",
    "os_data_X = pd.DataFrame(data=os_data_X,columns=columns )\n",
    "os_data_y= pd.DataFrame(data=os_data_y,columns=['y'])\n",
    "# we can Check the numbers of our data\n",
    "print(\"length of oversampled data is \",len(os_data_X))\n",
    "print(\"Number of no subscription in oversampled data\",len(os_data_y[os_data_y['y']==0]))\n",
    "print(\"Number of subscription\",len(os_data_y[os_data_y['y']==1]))\n",
    "print(\"Proportion of no subscription data in oversampled data is \",len(os_data_y[os_data_y['y']==0])/len(os_data_X))\n",
    "print(\"Proportion of subscription data in oversampled data is \",len(os_data_y[os_data_y['y']==1])/len(os_data_X))"
   ]
  },
  {
   "cell_type": "code",
   "execution_count": null,
   "metadata": {},
   "outputs": [],
   "source": [
    "## Why Cant I create a new data frame with just the dummy variables? "
   ]
  },
  {
   "cell_type": "code",
   "execution_count": null,
   "metadata": {},
   "outputs": [],
   "source": [
    "df = data[['Age','Name','MRKTVCAT','ExceedForecast','y']]"
   ]
  },
  {
   "cell_type": "code",
   "execution_count": null,
   "metadata": {},
   "outputs": [],
   "source": []
  }
 ],
 "metadata": {
  "kernelspec": {
   "display_name": "Python 3",
   "language": "python",
   "name": "python3"
  },
  "language_info": {
   "codemirror_mode": {
    "name": "ipython",
    "version": 3
   },
   "file_extension": ".py",
   "mimetype": "text/x-python",
   "name": "python",
   "nbconvert_exporter": "python",
   "pygments_lexer": "ipython3",
   "version": "3.7.4"
  }
 },
 "nbformat": 4,
 "nbformat_minor": 2
}
