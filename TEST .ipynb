{
 "cells": [
  {
   "cell_type": "code",
   "execution_count": 1,
   "metadata": {},
   "outputs": [],
   "source": [
    "import os\n",
    "import numpy as np\n",
    "import pandas as pd\n",
    "from sklearn import preprocessing\n",
    "\n",
    "import matplotlib.pyplot as plt\n",
    "plt.rc(\"font\", size=14)\n",
    "import seaborn as sns\n",
    "import statsmodels.api as sm\n",
    "import statsmodels.formula.api as smf\n",
    "from sklearn.linear_model import LogisticRegression\n",
    "from sklearn.model_selection import train_test_split\n",
    "sns.set(style=\"white\")\n",
    "sns.set(style=\"whitegrid\", color_codes=True)\n",
    "pd.set_option('display.max_rows', 20)\n",
    "pd.set_option('display.notebook_repr_html', True)\n",
    "pd.set_option('display.max_columns', 50)\n",
    "%matplotlib inline\n",
    "plt.style.use('ggplot')"
   ]
  },
  {
   "cell_type": "code",
   "execution_count": 6,
   "metadata": {},
   "outputs": [
    {
     "name": "stdout",
     "output_type": "stream",
     "text": [
      "(500, 12)\n",
      "['NAME', 'DATEPUBLIC', 'MARKETVAL', 'REVGROWTH', 'EPS ', 'CURRENT RATIO', 'DEBT/EQUITY', 'UP_DOWN_PQ-10 ', 'VARIANCE', '10DAYSAFTER_EARN ', '20DAYSAFTER_EARN', '30DAYSAFTER_EARN']\n"
     ]
    }
   ],
   "source": [
    "data = pd.read_csv('EPSTEST.csv')\n",
    "print(data.shape)\n",
    "print(list(data.columns))"
   ]
  },
  {
   "cell_type": "code",
   "execution_count": 7,
   "metadata": {},
   "outputs": [
    {
     "data": {
      "text/html": [
       "<div>\n",
       "<style scoped>\n",
       "    .dataframe tbody tr th:only-of-type {\n",
       "        vertical-align: middle;\n",
       "    }\n",
       "\n",
       "    .dataframe tbody tr th {\n",
       "        vertical-align: top;\n",
       "    }\n",
       "\n",
       "    .dataframe thead th {\n",
       "        text-align: right;\n",
       "    }\n",
       "</style>\n",
       "<table border=\"1\" class=\"dataframe\">\n",
       "  <thead>\n",
       "    <tr style=\"text-align: right;\">\n",
       "      <th></th>\n",
       "      <th>NAME</th>\n",
       "      <th>DATEPUBLIC</th>\n",
       "      <th>MARKETVAL</th>\n",
       "      <th>REVGROWTH</th>\n",
       "      <th>EPS</th>\n",
       "      <th>CURRENT RATIO</th>\n",
       "      <th>DEBT/EQUITY</th>\n",
       "      <th>UP_DOWN_PQ-10</th>\n",
       "      <th>VARIANCE</th>\n",
       "      <th>10DAYSAFTER_EARN</th>\n",
       "      <th>20DAYSAFTER_EARN</th>\n",
       "      <th>30DAYSAFTER_EARN</th>\n",
       "    </tr>\n",
       "  </thead>\n",
       "  <tbody>\n",
       "    <tr>\n",
       "      <td>0</td>\n",
       "      <td>Royal Caribbean Cruises Ltd.</td>\n",
       "      <td>4/28/1993</td>\n",
       "      <td>6,757.0</td>\n",
       "      <td>0.089</td>\n",
       "      <td>0.126</td>\n",
       "      <td>1.6</td>\n",
       "      <td>160.0</td>\n",
       "      <td>-13.77%</td>\n",
       "      <td>-0.26%</td>\n",
       "      <td>-5.92%</td>\n",
       "      <td>-28.51%</td>\n",
       "      <td>-59.26%</td>\n",
       "    </tr>\n",
       "  </tbody>\n",
       "</table>\n",
       "</div>"
      ],
      "text/plain": [
       "                           NAME  DATEPUBLIC MARKETVAL  REVGROWTH   EPS   \\\n",
       "0  Royal Caribbean Cruises Ltd.   4/28/1993   6,757.0      0.089  0.126   \n",
       "\n",
       "   CURRENT RATIO  DEBT/EQUITY UP_DOWN_PQ-10  VARIANCE 10DAYSAFTER_EARN   \\\n",
       "0            1.6        160.0        -13.77%   -0.26%            -5.92%   \n",
       "\n",
       "  20DAYSAFTER_EARN 30DAYSAFTER_EARN  \n",
       "0          -28.51%          -59.26%  "
      ]
     },
     "execution_count": 7,
     "metadata": {},
     "output_type": "execute_result"
    }
   ],
   "source": [
    "data.head(1)"
   ]
  },
  {
   "cell_type": "code",
   "execution_count": null,
   "metadata": {},
   "outputs": [],
   "source": []
  }
 ],
 "metadata": {
  "kernelspec": {
   "display_name": "Python 3",
   "language": "python",
   "name": "python3"
  },
  "language_info": {
   "codemirror_mode": {
    "name": "ipython",
    "version": 3
   },
   "file_extension": ".py",
   "mimetype": "text/x-python",
   "name": "python",
   "nbconvert_exporter": "python",
   "pygments_lexer": "ipython3",
   "version": "3.7.4"
  }
 },
 "nbformat": 4,
 "nbformat_minor": 2
}
