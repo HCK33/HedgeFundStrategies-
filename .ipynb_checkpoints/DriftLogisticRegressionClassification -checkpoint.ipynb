{
 "cells": [
  {
   "cell_type": "code",
   "execution_count": 1,
   "metadata": {},
   "outputs": [],
   "source": [
    "import os\n",
    "import numpy as np\n",
    "import pandas as pd\n",
    "from sklearn import preprocessing\n",
    "\n",
    "import matplotlib.pyplot as plt\n",
    "plt.rc(\"font\", size=14)\n",
    "import seaborn as sns\n",
    "import statsmodels.api as sm\n",
    "import statsmodels.formula.api as smf\n",
    "from sklearn.linear_model import LogisticRegression\n",
    "from sklearn.model_selection import train_test_split\n",
    "sns.set(style=\"white\")\n",
    "sns.set(style=\"whitegrid\", color_codes=True)\n",
    "pd.set_option('display.max_rows', 20)\n",
    "pd.set_option('display.notebook_repr_html', True)\n",
    "pd.set_option('display.max_columns', 50)\n",
    "%matplotlib inline\n",
    "plt.style.use('ggplot')"
   ]
  },
  {
   "cell_type": "code",
   "execution_count": 2,
   "metadata": {},
   "outputs": [
    {
     "name": "stdout",
     "output_type": "stream",
     "text": [
      "(491, 41)\n",
      "['Symbol', 'Name', 'Date Public', 'Founded', 'MarketValue', 'PQ1EarningsDate', 'PQ1Variance', '-10 Before Earnings', '+10 Since Earnings', '+20 Since Earnings', '+30 Since Earnings', 'P/Q-2 Earnings Date', 'P/Q-2Variance', '-10 Before Earnings.1', '+10 Since Earnings.1', '+20 Since Earnings.1', '+30 Since Earnings.1', 'P/Q-3 Earnings Date', 'P/Q-3Variance', '-10 Before Earnings.2', '+10 Since Earnings.2', '+20 Since Earnings.2', '+30 Since Earnings.2', 'P/Q-4 Earnings Date', 'P/Q-4 % Variance', '-10 Before Earnings.3', '+10 Since Earnings.3', '+20 Since Earnings.3', '+30 Since Earnings.3', 'P/Q-5 Earnings Date', 'P/Q-5 % Variance', '-10 Before Earnings.4', '+10 Since Earnings.4', '+20 Since Earnings.4', '+30 Since Earnings.4', 'P/Q-6 Earnings Date', 'P/Q-6 % Variance', '-10 Before Earnings.5', '+10 Since Earnings.5', '+20 Since Earnings.5', '+30 Since Earnings.5']\n"
     ]
    }
   ],
   "source": [
    "data = pd.read_csv('EPSFINAL.csv')\n",
    "data = data.dropna()\n",
    "print(data.shape)\n",
    "print(list(data.columns))"
   ]
  },
  {
   "cell_type": "code",
   "execution_count": 3,
   "metadata": {},
   "outputs": [
    {
     "data": {
      "text/html": [
       "<div>\n",
       "<style scoped>\n",
       "    .dataframe tbody tr th:only-of-type {\n",
       "        vertical-align: middle;\n",
       "    }\n",
       "\n",
       "    .dataframe tbody tr th {\n",
       "        vertical-align: top;\n",
       "    }\n",
       "\n",
       "    .dataframe thead th {\n",
       "        text-align: right;\n",
       "    }\n",
       "</style>\n",
       "<table border=\"1\" class=\"dataframe\">\n",
       "  <thead>\n",
       "    <tr style=\"text-align: right;\">\n",
       "      <th></th>\n",
       "      <th>Symbol</th>\n",
       "      <th>Name</th>\n",
       "      <th>Date Public</th>\n",
       "      <th>Founded</th>\n",
       "      <th>MarketValue</th>\n",
       "      <th>PQ1EarningsDate</th>\n",
       "      <th>PQ1Variance</th>\n",
       "      <th>-10 Before Earnings</th>\n",
       "      <th>+10 Since Earnings</th>\n",
       "      <th>+20 Since Earnings</th>\n",
       "      <th>+30 Since Earnings</th>\n",
       "      <th>P/Q-2 Earnings Date</th>\n",
       "      <th>P/Q-2Variance</th>\n",
       "      <th>-10 Before Earnings.1</th>\n",
       "      <th>+10 Since Earnings.1</th>\n",
       "      <th>+20 Since Earnings.1</th>\n",
       "      <th>+30 Since Earnings.1</th>\n",
       "      <th>P/Q-3 Earnings Date</th>\n",
       "      <th>P/Q-3Variance</th>\n",
       "      <th>-10 Before Earnings.2</th>\n",
       "      <th>+10 Since Earnings.2</th>\n",
       "      <th>+20 Since Earnings.2</th>\n",
       "      <th>+30 Since Earnings.2</th>\n",
       "      <th>P/Q-4 Earnings Date</th>\n",
       "      <th>P/Q-4 % Variance</th>\n",
       "      <th>-10 Before Earnings.3</th>\n",
       "      <th>+10 Since Earnings.3</th>\n",
       "      <th>+20 Since Earnings.3</th>\n",
       "      <th>+30 Since Earnings.3</th>\n",
       "      <th>P/Q-5 Earnings Date</th>\n",
       "      <th>P/Q-5 % Variance</th>\n",
       "      <th>-10 Before Earnings.4</th>\n",
       "      <th>+10 Since Earnings.4</th>\n",
       "      <th>+20 Since Earnings.4</th>\n",
       "      <th>+30 Since Earnings.4</th>\n",
       "      <th>P/Q-6 Earnings Date</th>\n",
       "      <th>P/Q-6 % Variance</th>\n",
       "      <th>-10 Before Earnings.5</th>\n",
       "      <th>+10 Since Earnings.5</th>\n",
       "      <th>+20 Since Earnings.5</th>\n",
       "      <th>+30 Since Earnings.5</th>\n",
       "    </tr>\n",
       "  </thead>\n",
       "  <tbody>\n",
       "    <tr>\n",
       "      <td>0</td>\n",
       "      <td>AAPL</td>\n",
       "      <td>Apple Inc.</td>\n",
       "      <td>11/05/1984</td>\n",
       "      <td>1976.0</td>\n",
       "      <td>1,216,252</td>\n",
       "      <td>1/29/2020</td>\n",
       "      <td>10%</td>\n",
       "      <td>0.55%</td>\n",
       "      <td>-2.42%</td>\n",
       "      <td>-4.58%</td>\n",
       "      <td>7.36%</td>\n",
       "      <td>10/31/2019</td>\n",
       "      <td>7%</td>\n",
       "      <td>1.87%</td>\n",
       "      <td>3.53%</td>\n",
       "      <td>0.22%</td>\n",
       "      <td>2.00%</td>\n",
       "      <td>7/31/2019</td>\n",
       "      <td>4%</td>\n",
       "      <td>1.78%</td>\n",
       "      <td>-0.28%</td>\n",
       "      <td>-0.39%</td>\n",
       "      <td>4.25%</td>\n",
       "      <td>5/1/2019</td>\n",
       "      <td>4%</td>\n",
       "      <td>-0.67%</td>\n",
       "      <td>-7.00%</td>\n",
       "      <td>-4.49%</td>\n",
       "      <td>5.11%</td>\n",
       "      <td>1/3/2019</td>\n",
       "      <td>-10%</td>\n",
       "      <td>-1.64%</td>\n",
       "      <td>1.94%</td>\n",
       "      <td>4.14%</td>\n",
       "      <td>-0.36%</td>\n",
       "      <td>11/2/2018</td>\n",
       "      <td>5%</td>\n",
       "      <td>3.92%</td>\n",
       "      <td>-7.40%</td>\n",
       "      <td>-6.54%</td>\n",
       "      <td>-1.47%</td>\n",
       "    </tr>\n",
       "    <tr>\n",
       "      <td>1</td>\n",
       "      <td>MSFT</td>\n",
       "      <td>Microsoft Corporation</td>\n",
       "      <td>3/13/1986</td>\n",
       "      <td>1975.0</td>\n",
       "      <td>1,208,069.0</td>\n",
       "      <td>1/30/2020</td>\n",
       "      <td>15%</td>\n",
       "      <td>3.90%</td>\n",
       "      <td>3.46%</td>\n",
       "      <td>0.29%</td>\n",
       "      <td>7.13%</td>\n",
       "      <td>10/24/2019</td>\n",
       "      <td>11%</td>\n",
       "      <td>-3.68%</td>\n",
       "      <td>0.49%</td>\n",
       "      <td>2.94%</td>\n",
       "      <td>0.04%</td>\n",
       "      <td>7/19/2019</td>\n",
       "      <td>13%</td>\n",
       "      <td>-0.77%</td>\n",
       "      <td>1.74%</td>\n",
       "      <td>0.73%</td>\n",
       "      <td>0.02%</td>\n",
       "      <td>4/25/2019</td>\n",
       "      <td>14%</td>\n",
       "      <td>3.09%</td>\n",
       "      <td>-0.98%</td>\n",
       "      <td>2.12%</td>\n",
       "      <td>2.18%</td>\n",
       "      <td>1/31/2019</td>\n",
       "      <td>1%</td>\n",
       "      <td>-1.47%</td>\n",
       "      <td>0.72%</td>\n",
       "      <td>3.07%</td>\n",
       "      <td>2.69%</td>\n",
       "      <td>10/25/2018</td>\n",
       "      <td>18%</td>\n",
       "      <td>1.05%</td>\n",
       "      <td>-0.67%</td>\n",
       "      <td>-1.62%</td>\n",
       "      <td>4.07%</td>\n",
       "    </tr>\n",
       "    <tr>\n",
       "      <td>2</td>\n",
       "      <td>AMZN</td>\n",
       "      <td>Amazon.com, Inc.</td>\n",
       "      <td>5/15/1997</td>\n",
       "      <td>1994.0</td>\n",
       "      <td>888,591.6</td>\n",
       "      <td>1/31/2020</td>\n",
       "      <td>60%</td>\n",
       "      <td>0.62%</td>\n",
       "      <td>1.35%</td>\n",
       "      <td>-0.03%</td>\n",
       "      <td>-8.65%</td>\n",
       "      <td>10/25/2019</td>\n",
       "      <td>-8%</td>\n",
       "      <td>1.09%</td>\n",
       "      <td>-1.04%</td>\n",
       "      <td>-2.90%</td>\n",
       "      <td>-0.72%</td>\n",
       "      <td>7/26/2019</td>\n",
       "      <td>-6%</td>\n",
       "      <td>-1.59%</td>\n",
       "      <td>-3.53%</td>\n",
       "      <td>-0.88%</td>\n",
       "      <td>-0.02%</td>\n",
       "      <td>4/26/2019</td>\n",
       "      <td>51%</td>\n",
       "      <td>1.67%</td>\n",
       "      <td>-1.30%</td>\n",
       "      <td>-1.68%</td>\n",
       "      <td>-0.14%</td>\n",
       "      <td>2/1/2019</td>\n",
       "      <td>7%</td>\n",
       "      <td>-1.35%</td>\n",
       "      <td>-3.83%</td>\n",
       "      <td>4.75%</td>\n",
       "      <td>1.66%</td>\n",
       "      <td>10/26/2018</td>\n",
       "      <td>86%</td>\n",
       "      <td>4.42%</td>\n",
       "      <td>-0.45%</td>\n",
       "      <td>-3.96%</td>\n",
       "      <td>5.17%</td>\n",
       "    </tr>\n",
       "    <tr>\n",
       "      <td>3</td>\n",
       "      <td>GOOGL</td>\n",
       "      <td>Alphabet Inc. Class A</td>\n",
       "      <td>8/19/2004</td>\n",
       "      <td>2015.0</td>\n",
       "      <td>836,412.7</td>\n",
       "      <td>2/4/2020</td>\n",
       "      <td>23%</td>\n",
       "      <td>2.57%</td>\n",
       "      <td>2.68%</td>\n",
       "      <td>-1.86%</td>\n",
       "      <td>-12.11%</td>\n",
       "      <td>10/29/2019</td>\n",
       "      <td>-18%</td>\n",
       "      <td>3.36%</td>\n",
       "      <td>0.99%</td>\n",
       "      <td>-0.43%</td>\n",
       "      <td>2.27%</td>\n",
       "      <td>7/26/2019</td>\n",
       "      <td>28%</td>\n",
       "      <td>-0.94%</td>\n",
       "      <td>-1.08%</td>\n",
       "      <td>-0.65%</td>\n",
       "      <td>-0.21%</td>\n",
       "      <td>4/30/2019</td>\n",
       "      <td>-10%</td>\n",
       "      <td>4.73%</td>\n",
       "      <td>-2.57%</td>\n",
       "      <td>1.37%</td>\n",
       "      <td>-7.28%</td>\n",
       "      <td>2/5/2019</td>\n",
       "      <td>18%</td>\n",
       "      <td>1.02%</td>\n",
       "      <td>-4.66%</td>\n",
       "      <td>4.35%</td>\n",
       "      <td>3.76%</td>\n",
       "      <td>10/26/2018</td>\n",
       "      <td>25%</td>\n",
       "      <td>1.95%</td>\n",
       "      <td>-5.31%</td>\n",
       "      <td>1.74%</td>\n",
       "      <td>1.80%</td>\n",
       "    </tr>\n",
       "    <tr>\n",
       "      <td>4</td>\n",
       "      <td>FB</td>\n",
       "      <td>Facebook, Inc. Class A</td>\n",
       "      <td>5/18/2012</td>\n",
       "      <td>2004.0</td>\n",
       "      <td>485,374.8</td>\n",
       "      <td>1/30/2020</td>\n",
       "      <td>1%</td>\n",
       "      <td>2.16%</td>\n",
       "      <td>-1.14%</td>\n",
       "      <td>2.41%</td>\n",
       "      <td>-2.44%</td>\n",
       "      <td>10/31/2019</td>\n",
       "      <td>11%</td>\n",
       "      <td>-2.61%</td>\n",
       "      <td>-1.27%</td>\n",
       "      <td>2.86%</td>\n",
       "      <td>-4.69%</td>\n",
       "      <td>7/25/2019</td>\n",
       "      <td>-52%</td>\n",
       "      <td>0.00%</td>\n",
       "      <td>-3.13%</td>\n",
       "      <td>-3.84%</td>\n",
       "      <td>1.05%</td>\n",
       "      <td>4/25/2019</td>\n",
       "      <td>-47%</td>\n",
       "      <td>1.10%</td>\n",
       "      <td>-0.54%</td>\n",
       "      <td>-2.55%</td>\n",
       "      <td>-6.11%</td>\n",
       "      <td>1/31/2019</td>\n",
       "      <td>9%</td>\n",
       "      <td>-1.79%</td>\n",
       "      <td>-3.29%</td>\n",
       "      <td>-3.22%</td>\n",
       "      <td>1.96%</td>\n",
       "      <td>10/31/2018</td>\n",
       "      <td>20%</td>\n",
       "      <td>-3.41%</td>\n",
       "      <td>-4.83%</td>\n",
       "      <td>-5.24%</td>\n",
       "      <td>8.81%</td>\n",
       "    </tr>\n",
       "  </tbody>\n",
       "</table>\n",
       "</div>"
      ],
      "text/plain": [
       "  Symbol                    Name Date Public  Founded  MarketValue  \\\n",
       "0   AAPL              Apple Inc.  11/05/1984   1976.0    1,216,252   \n",
       "1   MSFT   Microsoft Corporation   3/13/1986   1975.0  1,208,069.0   \n",
       "2   AMZN        Amazon.com, Inc.   5/15/1997   1994.0    888,591.6   \n",
       "3  GOOGL   Alphabet Inc. Class A   8/19/2004   2015.0    836,412.7   \n",
       "4     FB  Facebook, Inc. Class A   5/18/2012   2004.0    485,374.8   \n",
       "\n",
       "  PQ1EarningsDate PQ1Variance -10 Before Earnings +10 Since Earnings  \\\n",
       "0       1/29/2020         10%               0.55%             -2.42%   \n",
       "1       1/30/2020         15%               3.90%              3.46%   \n",
       "2       1/31/2020         60%               0.62%              1.35%   \n",
       "3        2/4/2020         23%               2.57%              2.68%   \n",
       "4       1/30/2020          1%               2.16%             -1.14%   \n",
       "\n",
       "  +20 Since Earnings +30 Since Earnings P/Q-2 Earnings Date P/Q-2Variance  \\\n",
       "0             -4.58%              7.36%          10/31/2019            7%   \n",
       "1              0.29%              7.13%          10/24/2019           11%   \n",
       "2             -0.03%             -8.65%          10/25/2019           -8%   \n",
       "3             -1.86%            -12.11%          10/29/2019          -18%   \n",
       "4              2.41%             -2.44%          10/31/2019           11%   \n",
       "\n",
       "  -10 Before Earnings.1 +10 Since Earnings.1 +20 Since Earnings.1  \\\n",
       "0                 1.87%                3.53%                0.22%   \n",
       "1                -3.68%                0.49%                2.94%   \n",
       "2                 1.09%               -1.04%               -2.90%   \n",
       "3                 3.36%                0.99%               -0.43%   \n",
       "4                -2.61%               -1.27%                2.86%   \n",
       "\n",
       "  +30 Since Earnings.1 P/Q-3 Earnings Date P/Q-3Variance  \\\n",
       "0                2.00%           7/31/2019            4%   \n",
       "1                0.04%           7/19/2019           13%   \n",
       "2               -0.72%           7/26/2019           -6%   \n",
       "3                2.27%           7/26/2019           28%   \n",
       "4               -4.69%           7/25/2019          -52%   \n",
       "\n",
       "  -10 Before Earnings.2 +10 Since Earnings.2 +20 Since Earnings.2  \\\n",
       "0                 1.78%               -0.28%               -0.39%   \n",
       "1                -0.77%                1.74%                0.73%   \n",
       "2                -1.59%               -3.53%               -0.88%   \n",
       "3                -0.94%               -1.08%               -0.65%   \n",
       "4                 0.00%               -3.13%               -3.84%   \n",
       "\n",
       "  +30 Since Earnings.2 P/Q-4 Earnings Date P/Q-4 % Variance  \\\n",
       "0                4.25%            5/1/2019               4%   \n",
       "1                0.02%           4/25/2019              14%   \n",
       "2               -0.02%           4/26/2019              51%   \n",
       "3               -0.21%           4/30/2019             -10%   \n",
       "4                1.05%           4/25/2019             -47%   \n",
       "\n",
       "  -10 Before Earnings.3 +10 Since Earnings.3 +20 Since Earnings.3  \\\n",
       "0                -0.67%               -7.00%               -4.49%   \n",
       "1                 3.09%               -0.98%                2.12%   \n",
       "2                 1.67%               -1.30%               -1.68%   \n",
       "3                 4.73%               -2.57%                1.37%   \n",
       "4                 1.10%               -0.54%               -2.55%   \n",
       "\n",
       "  +30 Since Earnings.3 P/Q-5 Earnings Date P/Q-5 % Variance  \\\n",
       "0                5.11%            1/3/2019             -10%   \n",
       "1                2.18%           1/31/2019               1%   \n",
       "2               -0.14%            2/1/2019               7%   \n",
       "3               -7.28%            2/5/2019              18%   \n",
       "4               -6.11%           1/31/2019               9%   \n",
       "\n",
       "  -10 Before Earnings.4 +10 Since Earnings.4 +20 Since Earnings.4  \\\n",
       "0                -1.64%                1.94%                4.14%   \n",
       "1                -1.47%                0.72%                3.07%   \n",
       "2                -1.35%               -3.83%                4.75%   \n",
       "3                 1.02%               -4.66%                4.35%   \n",
       "4                -1.79%               -3.29%               -3.22%   \n",
       "\n",
       "  +30 Since Earnings.4 P/Q-6 Earnings Date P/Q-6 % Variance  \\\n",
       "0               -0.36%           11/2/2018               5%   \n",
       "1                2.69%          10/25/2018              18%   \n",
       "2                1.66%          10/26/2018              86%   \n",
       "3                3.76%          10/26/2018              25%   \n",
       "4                1.96%          10/31/2018              20%   \n",
       "\n",
       "  -10 Before Earnings.5 +10 Since Earnings.5 +20 Since Earnings.5  \\\n",
       "0                 3.92%               -7.40%               -6.54%   \n",
       "1                 1.05%               -0.67%               -1.62%   \n",
       "2                 4.42%               -0.45%               -3.96%   \n",
       "3                 1.95%               -5.31%                1.74%   \n",
       "4                -3.41%               -4.83%               -5.24%   \n",
       "\n",
       "  +30 Since Earnings.5  \n",
       "0               -1.47%  \n",
       "1                4.07%  \n",
       "2                5.17%  \n",
       "3                1.80%  \n",
       "4                8.81%  "
      ]
     },
     "execution_count": 3,
     "metadata": {},
     "output_type": "execute_result"
    }
   ],
   "source": [
    "data.head(5)"
   ]
  },
  {
   "cell_type": "code",
   "execution_count": 4,
   "metadata": {},
   "outputs": [
    {
     "data": {
      "text/plain": [
       "{dtype('float64'): Index(['Founded'], dtype='object'),\n",
       " dtype('O'): Index(['Symbol', 'Name', 'Date Public', 'MarketValue', 'PQ1EarningsDate',\n",
       "        'PQ1Variance', '-10 Before Earnings', '+10 Since Earnings',\n",
       "        '+20 Since Earnings', '+30 Since Earnings', 'P/Q-2 Earnings Date',\n",
       "        'P/Q-2Variance', '-10 Before Earnings.1', '+10 Since Earnings.1',\n",
       "        '+20 Since Earnings.1', '+30 Since Earnings.1', 'P/Q-3 Earnings Date',\n",
       "        'P/Q-3Variance', '-10 Before Earnings.2', '+10 Since Earnings.2',\n",
       "        '+20 Since Earnings.2', '+30 Since Earnings.2', 'P/Q-4 Earnings Date',\n",
       "        'P/Q-4 % Variance', '-10 Before Earnings.3', '+10 Since Earnings.3',\n",
       "        '+20 Since Earnings.3', '+30 Since Earnings.3', 'P/Q-5 Earnings Date',\n",
       "        'P/Q-5 % Variance', '-10 Before Earnings.4', '+10 Since Earnings.4',\n",
       "        '+20 Since Earnings.4', '+30 Since Earnings.4', 'P/Q-6 Earnings Date',\n",
       "        'P/Q-6 % Variance', '-10 Before Earnings.5', '+10 Since Earnings.5',\n",
       "        '+20 Since Earnings.5', '+30 Since Earnings.5'],\n",
       "       dtype='object')}"
      ]
     },
     "execution_count": 4,
     "metadata": {},
     "output_type": "execute_result"
    }
   ],
   "source": [
    "data.columns.to_series().groupby(data.dtypes).groups"
   ]
  },
  {
   "cell_type": "code",
   "execution_count": 5,
   "metadata": {},
   "outputs": [
    {
     "data": {
      "text/plain": [
       "Symbol                    object\n",
       "Name                      object\n",
       "Date Public               object\n",
       "Founded                  float64\n",
       "MarketValue               object\n",
       "                          ...   \n",
       "P/Q-6 % Variance          object\n",
       "-10 Before Earnings.5     object\n",
       "+10 Since Earnings.5      object\n",
       "+20 Since Earnings.5      object\n",
       "+30 Since Earnings.5      object\n",
       "Length: 41, dtype: object"
      ]
     },
     "execution_count": 5,
     "metadata": {},
     "output_type": "execute_result"
    }
   ],
   "source": [
    "data.dtypes"
   ]
  },
  {
   "cell_type": "markdown",
   "metadata": {},
   "source": [
    "## Data Transformations: Date to Age"
   ]
  },
  {
   "cell_type": "code",
   "execution_count": 6,
   "metadata": {},
   "outputs": [],
   "source": [
    "df = data[['Name','Date Public','MarketValue','PQ1Variance','+10 Since Earnings','+20 Since Earnings','+30 Since Earnings']]"
   ]
  },
  {
   "cell_type": "code",
   "execution_count": 7,
   "metadata": {},
   "outputs": [],
   "source": [
    "import datetime"
   ]
  },
  {
   "cell_type": "code",
   "execution_count": 8,
   "metadata": {},
   "outputs": [],
   "source": [
    "todaydate = datetime.datetime.today()"
   ]
  },
  {
   "cell_type": "markdown",
   "metadata": {},
   "source": [
    "## Create New Column in DF "
   ]
  },
  {
   "cell_type": "code",
   "execution_count": 9,
   "metadata": {},
   "outputs": [
    {
     "name": "stderr",
     "output_type": "stream",
     "text": [
      "/opt/anaconda3/lib/python3.7/site-packages/ipykernel_launcher.py:1: SettingWithCopyWarning: \n",
      "A value is trying to be set on a copy of a slice from a DataFrame.\n",
      "Try using .loc[row_indexer,col_indexer] = value instead\n",
      "\n",
      "See the caveats in the documentation: http://pandas.pydata.org/pandas-docs/stable/user_guide/indexing.html#returning-a-view-versus-a-copy\n",
      "  \"\"\"Entry point for launching an IPython kernel.\n"
     ]
    }
   ],
   "source": [
    "df['Age'] = (todaydate - pd.to_datetime(df['Date Public'])).astype('<m8[Y]')"
   ]
  },
  {
   "cell_type": "code",
   "execution_count": 10,
   "metadata": {},
   "outputs": [
    {
     "data": {
      "text/html": [
       "<div>\n",
       "<style scoped>\n",
       "    .dataframe tbody tr th:only-of-type {\n",
       "        vertical-align: middle;\n",
       "    }\n",
       "\n",
       "    .dataframe tbody tr th {\n",
       "        vertical-align: top;\n",
       "    }\n",
       "\n",
       "    .dataframe thead th {\n",
       "        text-align: right;\n",
       "    }\n",
       "</style>\n",
       "<table border=\"1\" class=\"dataframe\">\n",
       "  <thead>\n",
       "    <tr style=\"text-align: right;\">\n",
       "      <th></th>\n",
       "      <th>Name</th>\n",
       "      <th>Date Public</th>\n",
       "      <th>MarketValue</th>\n",
       "      <th>PQ1Variance</th>\n",
       "      <th>+10 Since Earnings</th>\n",
       "      <th>+20 Since Earnings</th>\n",
       "      <th>+30 Since Earnings</th>\n",
       "      <th>Age</th>\n",
       "    </tr>\n",
       "  </thead>\n",
       "  <tbody>\n",
       "    <tr>\n",
       "      <td>0</td>\n",
       "      <td>Apple Inc.</td>\n",
       "      <td>11/05/1984</td>\n",
       "      <td>1,216,252</td>\n",
       "      <td>10%</td>\n",
       "      <td>-2.42%</td>\n",
       "      <td>-4.58%</td>\n",
       "      <td>7.36%</td>\n",
       "      <td>35.0</td>\n",
       "    </tr>\n",
       "    <tr>\n",
       "      <td>1</td>\n",
       "      <td>Microsoft Corporation</td>\n",
       "      <td>3/13/1986</td>\n",
       "      <td>1,208,069.0</td>\n",
       "      <td>15%</td>\n",
       "      <td>3.46%</td>\n",
       "      <td>0.29%</td>\n",
       "      <td>7.13%</td>\n",
       "      <td>34.0</td>\n",
       "    </tr>\n",
       "    <tr>\n",
       "      <td>2</td>\n",
       "      <td>Amazon.com, Inc.</td>\n",
       "      <td>5/15/1997</td>\n",
       "      <td>888,591.6</td>\n",
       "      <td>60%</td>\n",
       "      <td>1.35%</td>\n",
       "      <td>-0.03%</td>\n",
       "      <td>-8.65%</td>\n",
       "      <td>22.0</td>\n",
       "    </tr>\n",
       "    <tr>\n",
       "      <td>3</td>\n",
       "      <td>Alphabet Inc. Class A</td>\n",
       "      <td>8/19/2004</td>\n",
       "      <td>836,412.7</td>\n",
       "      <td>23%</td>\n",
       "      <td>2.68%</td>\n",
       "      <td>-1.86%</td>\n",
       "      <td>-12.11%</td>\n",
       "      <td>15.0</td>\n",
       "    </tr>\n",
       "    <tr>\n",
       "      <td>4</td>\n",
       "      <td>Facebook, Inc. Class A</td>\n",
       "      <td>5/18/2012</td>\n",
       "      <td>485,374.8</td>\n",
       "      <td>1%</td>\n",
       "      <td>-1.14%</td>\n",
       "      <td>2.41%</td>\n",
       "      <td>-2.44%</td>\n",
       "      <td>7.0</td>\n",
       "    </tr>\n",
       "  </tbody>\n",
       "</table>\n",
       "</div>"
      ],
      "text/plain": [
       "                     Name Date Public  MarketValue PQ1Variance  \\\n",
       "0              Apple Inc.  11/05/1984    1,216,252         10%   \n",
       "1   Microsoft Corporation   3/13/1986  1,208,069.0         15%   \n",
       "2        Amazon.com, Inc.   5/15/1997    888,591.6         60%   \n",
       "3   Alphabet Inc. Class A   8/19/2004    836,412.7         23%   \n",
       "4  Facebook, Inc. Class A   5/18/2012    485,374.8          1%   \n",
       "\n",
       "  +10 Since Earnings +20 Since Earnings +30 Since Earnings   Age  \n",
       "0             -2.42%             -4.58%              7.36%  35.0  \n",
       "1              3.46%              0.29%              7.13%  34.0  \n",
       "2              1.35%             -0.03%             -8.65%  22.0  \n",
       "3              2.68%             -1.86%            -12.11%  15.0  \n",
       "4             -1.14%              2.41%             -2.44%   7.0  "
      ]
     },
     "execution_count": 10,
     "metadata": {},
     "output_type": "execute_result"
    }
   ],
   "source": [
    "df.head(5)"
   ]
  },
  {
   "cell_type": "code",
   "execution_count": 11,
   "metadata": {},
   "outputs": [
    {
     "data": {
      "text/plain": [
       "Name                   object\n",
       "Date Public            object\n",
       "MarketValue            object\n",
       "PQ1Variance            object\n",
       "+10 Since Earnings     object\n",
       "+20 Since Earnings     object\n",
       "+30 Since Earnings     object\n",
       "Age                   float64\n",
       "dtype: object"
      ]
     },
     "execution_count": 11,
     "metadata": {},
     "output_type": "execute_result"
    }
   ],
   "source": [
    "df.dtypes"
   ]
  },
  {
   "cell_type": "markdown",
   "metadata": {},
   "source": [
    "## Convert Objects to Floats & Integers "
   ]
  },
  {
   "cell_type": "code",
   "execution_count": 12,
   "metadata": {},
   "outputs": [],
   "source": [
    "def convertMarketValue(valueInString):\n",
    "    return float(valueInString.replace(\",\",\"\"))"
   ]
  },
  {
   "cell_type": "code",
   "execution_count": 13,
   "metadata": {},
   "outputs": [
    {
     "name": "stderr",
     "output_type": "stream",
     "text": [
      "/opt/anaconda3/lib/python3.7/site-packages/ipykernel_launcher.py:1: SettingWithCopyWarning: \n",
      "A value is trying to be set on a copy of a slice from a DataFrame.\n",
      "Try using .loc[row_indexer,col_indexer] = value instead\n",
      "\n",
      "See the caveats in the documentation: http://pandas.pydata.org/pandas-docs/stable/user_guide/indexing.html#returning-a-view-versus-a-copy\n",
      "  \"\"\"Entry point for launching an IPython kernel.\n"
     ]
    }
   ],
   "source": [
    "df['MarketValue'] = df['MarketValue'].apply(convertMarketValue)"
   ]
  },
  {
   "cell_type": "code",
   "execution_count": 14,
   "metadata": {},
   "outputs": [
    {
     "name": "stderr",
     "output_type": "stream",
     "text": [
      "/opt/anaconda3/lib/python3.7/site-packages/ipykernel_launcher.py:1: SettingWithCopyWarning: \n",
      "A value is trying to be set on a copy of a slice from a DataFrame.\n",
      "Try using .loc[row_indexer,col_indexer] = value instead\n",
      "\n",
      "See the caveats in the documentation: http://pandas.pydata.org/pandas-docs/stable/user_guide/indexing.html#returning-a-view-versus-a-copy\n",
      "  \"\"\"Entry point for launching an IPython kernel.\n"
     ]
    }
   ],
   "source": [
    "df['PQ1Variance'] = df['PQ1Variance'].apply(lambda x: np.nan if x in ['-'] else x[:-1]).astype(float)/100"
   ]
  },
  {
   "cell_type": "code",
   "execution_count": 15,
   "metadata": {},
   "outputs": [
    {
     "data": {
      "text/plain": [
       "count    491.000000\n",
       "mean      -0.467271\n",
       "std       12.649785\n",
       "min     -279.810000\n",
       "25%        0.000000\n",
       "50%        0.030000\n",
       "75%        0.090000\n",
       "max       10.040000\n",
       "Name: PQ1Variance, dtype: float64"
      ]
     },
     "execution_count": 15,
     "metadata": {},
     "output_type": "execute_result"
    }
   ],
   "source": [
    "df['PQ1Variance'].describe()"
   ]
  },
  {
   "cell_type": "code",
   "execution_count": 16,
   "metadata": {},
   "outputs": [
    {
     "name": "stderr",
     "output_type": "stream",
     "text": [
      "/opt/anaconda3/lib/python3.7/site-packages/ipykernel_launcher.py:1: SettingWithCopyWarning: \n",
      "A value is trying to be set on a copy of a slice from a DataFrame.\n",
      "Try using .loc[row_indexer,col_indexer] = value instead\n",
      "\n",
      "See the caveats in the documentation: http://pandas.pydata.org/pandas-docs/stable/user_guide/indexing.html#returning-a-view-versus-a-copy\n",
      "  \"\"\"Entry point for launching an IPython kernel.\n"
     ]
    }
   ],
   "source": [
    "df['+10 Since Earnings'] = df['+10 Since Earnings'].apply(lambda x: np.nan if x in ['-'] else x[:-1]).astype(float)/100"
   ]
  },
  {
   "cell_type": "code",
   "execution_count": 17,
   "metadata": {},
   "outputs": [
    {
     "name": "stderr",
     "output_type": "stream",
     "text": [
      "/opt/anaconda3/lib/python3.7/site-packages/ipykernel_launcher.py:1: SettingWithCopyWarning: \n",
      "A value is trying to be set on a copy of a slice from a DataFrame.\n",
      "Try using .loc[row_indexer,col_indexer] = value instead\n",
      "\n",
      "See the caveats in the documentation: http://pandas.pydata.org/pandas-docs/stable/user_guide/indexing.html#returning-a-view-versus-a-copy\n",
      "  \"\"\"Entry point for launching an IPython kernel.\n"
     ]
    }
   ],
   "source": [
    "df['+20 Since Earnings'] = df['+20 Since Earnings'].apply(lambda x: np.nan if x in ['-'] else x[:-1]).astype(float)/100"
   ]
  },
  {
   "cell_type": "code",
   "execution_count": 18,
   "metadata": {},
   "outputs": [
    {
     "name": "stderr",
     "output_type": "stream",
     "text": [
      "/opt/anaconda3/lib/python3.7/site-packages/ipykernel_launcher.py:1: SettingWithCopyWarning: \n",
      "A value is trying to be set on a copy of a slice from a DataFrame.\n",
      "Try using .loc[row_indexer,col_indexer] = value instead\n",
      "\n",
      "See the caveats in the documentation: http://pandas.pydata.org/pandas-docs/stable/user_guide/indexing.html#returning-a-view-versus-a-copy\n",
      "  \"\"\"Entry point for launching an IPython kernel.\n"
     ]
    }
   ],
   "source": [
    "df['+30 Since Earnings'] = df['+30 Since Earnings'].apply(lambda x: np.nan if x in ['-'] else x[:-1]).astype(float)/100"
   ]
  },
  {
   "cell_type": "code",
   "execution_count": 19,
   "metadata": {},
   "outputs": [
    {
     "name": "stderr",
     "output_type": "stream",
     "text": [
      "/opt/anaconda3/lib/python3.7/site-packages/ipykernel_launcher.py:3: SettingWithCopyWarning: \n",
      "A value is trying to be set on a copy of a slice from a DataFrame.\n",
      "Try using .loc[row_indexer,col_indexer] = value instead\n",
      "\n",
      "See the caveats in the documentation: http://pandas.pydata.org/pandas-docs/stable/user_guide/indexing.html#returning-a-view-versus-a-copy\n",
      "  This is separate from the ipykernel package so we can avoid doing imports until\n"
     ]
    }
   ],
   "source": [
    "criteria = [df['Age']<=10, df['Age'].between(10,20,inclusive=False), df['Age']>=20]\n",
    "values = [1,2,3]\n",
    "df['AGECAT'] = np.select(criteria,values)"
   ]
  },
  {
   "cell_type": "code",
   "execution_count": 20,
   "metadata": {},
   "outputs": [
    {
     "name": "stderr",
     "output_type": "stream",
     "text": [
      "/opt/anaconda3/lib/python3.7/site-packages/ipykernel_launcher.py:3: SettingWithCopyWarning: \n",
      "A value is trying to be set on a copy of a slice from a DataFrame.\n",
      "Try using .loc[row_indexer,col_indexer] = value instead\n",
      "\n",
      "See the caveats in the documentation: http://pandas.pydata.org/pandas-docs/stable/user_guide/indexing.html#returning-a-view-versus-a-copy\n",
      "  This is separate from the ipykernel package so we can avoid doing imports until\n"
     ]
    }
   ],
   "source": [
    "criteria = [df['MarketValue']<=10222,df['MarketValue'].between(10222,43868,inclusive=False),df['MarketValue']>=43868.07]\n",
    "values = [1,2,3]\n",
    "df['MRKTVCAT'] = np.select(criteria,values)"
   ]
  },
  {
   "cell_type": "code",
   "execution_count": 21,
   "metadata": {},
   "outputs": [
    {
     "name": "stderr",
     "output_type": "stream",
     "text": [
      "/opt/anaconda3/lib/python3.7/site-packages/ipykernel_launcher.py:3: SettingWithCopyWarning: \n",
      "A value is trying to be set on a copy of a slice from a DataFrame.\n",
      "Try using .loc[row_indexer,col_indexer] = value instead\n",
      "\n",
      "See the caveats in the documentation: http://pandas.pydata.org/pandas-docs/stable/user_guide/indexing.html#returning-a-view-versus-a-copy\n",
      "  This is separate from the ipykernel package so we can avoid doing imports until\n"
     ]
    }
   ],
   "source": [
    "criteria = [df['PQ1Variance']<= -0.467271,df['PQ1Variance'].between( -0.467271,0,inclusive=False),df['PQ1Variance'].between(0,0.03,inclusive=False),df['PQ1Variance']>=.03]\n",
    "values = [-1,0,1,2]\n",
    "df['ExceedForecast'] = np.select(criteria,values)"
   ]
  },
  {
   "cell_type": "code",
   "execution_count": 22,
   "metadata": {},
   "outputs": [
    {
     "name": "stderr",
     "output_type": "stream",
     "text": [
      "/opt/anaconda3/lib/python3.7/site-packages/ipykernel_launcher.py:3: SettingWithCopyWarning: \n",
      "A value is trying to be set on a copy of a slice from a DataFrame.\n",
      "Try using .loc[row_indexer,col_indexer] = value instead\n",
      "\n",
      "See the caveats in the documentation: http://pandas.pydata.org/pandas-docs/stable/user_guide/indexing.html#returning-a-view-versus-a-copy\n",
      "  This is separate from the ipykernel package so we can avoid doing imports until\n"
     ]
    }
   ],
   "source": [
    "criteria = [df['+10 Since Earnings']<=0, df['+10 Since Earnings']>=0]\n",
    "values = [0,1]\n",
    "df['y'] = np.select(criteria,values)"
   ]
  },
  {
   "cell_type": "code",
   "execution_count": 23,
   "metadata": {},
   "outputs": [
    {
     "name": "stderr",
     "output_type": "stream",
     "text": [
      "/opt/anaconda3/lib/python3.7/site-packages/ipykernel_launcher.py:3: SettingWithCopyWarning: \n",
      "A value is trying to be set on a copy of a slice from a DataFrame.\n",
      "Try using .loc[row_indexer,col_indexer] = value instead\n",
      "\n",
      "See the caveats in the documentation: http://pandas.pydata.org/pandas-docs/stable/user_guide/indexing.html#returning-a-view-versus-a-copy\n",
      "  This is separate from the ipykernel package so we can avoid doing imports until\n"
     ]
    }
   ],
   "source": [
    "criteria = [df['+20 Since Earnings']<=0, df['+20 Since Earnings']>=0]\n",
    "values = [0,1]\n",
    "df['+20Gain/Loss'] = np.select(criteria,values)"
   ]
  },
  {
   "cell_type": "code",
   "execution_count": 24,
   "metadata": {},
   "outputs": [
    {
     "name": "stderr",
     "output_type": "stream",
     "text": [
      "/opt/anaconda3/lib/python3.7/site-packages/ipykernel_launcher.py:3: SettingWithCopyWarning: \n",
      "A value is trying to be set on a copy of a slice from a DataFrame.\n",
      "Try using .loc[row_indexer,col_indexer] = value instead\n",
      "\n",
      "See the caveats in the documentation: http://pandas.pydata.org/pandas-docs/stable/user_guide/indexing.html#returning-a-view-versus-a-copy\n",
      "  This is separate from the ipykernel package so we can avoid doing imports until\n"
     ]
    }
   ],
   "source": [
    "criteria = [df['+30 Since Earnings']<=0, df['+30 Since Earnings']>=0]\n",
    "values = [0,1]\n",
    "df['+30Gain/Loss'] = np.select(criteria,values)"
   ]
  },
  {
   "cell_type": "code",
   "execution_count": 25,
   "metadata": {},
   "outputs": [
    {
     "data": {
      "text/html": [
       "<div>\n",
       "<style scoped>\n",
       "    .dataframe tbody tr th:only-of-type {\n",
       "        vertical-align: middle;\n",
       "    }\n",
       "\n",
       "    .dataframe tbody tr th {\n",
       "        vertical-align: top;\n",
       "    }\n",
       "\n",
       "    .dataframe thead th {\n",
       "        text-align: right;\n",
       "    }\n",
       "</style>\n",
       "<table border=\"1\" class=\"dataframe\">\n",
       "  <thead>\n",
       "    <tr style=\"text-align: right;\">\n",
       "      <th></th>\n",
       "      <th>Name</th>\n",
       "      <th>Date Public</th>\n",
       "      <th>MarketValue</th>\n",
       "      <th>PQ1Variance</th>\n",
       "      <th>+10 Since Earnings</th>\n",
       "      <th>+20 Since Earnings</th>\n",
       "      <th>+30 Since Earnings</th>\n",
       "      <th>Age</th>\n",
       "      <th>AGECAT</th>\n",
       "      <th>MRKTVCAT</th>\n",
       "      <th>ExceedForecast</th>\n",
       "      <th>y</th>\n",
       "      <th>+20Gain/Loss</th>\n",
       "      <th>+30Gain/Loss</th>\n",
       "    </tr>\n",
       "  </thead>\n",
       "  <tbody>\n",
       "    <tr>\n",
       "      <td>0</td>\n",
       "      <td>Apple Inc.</td>\n",
       "      <td>11/05/1984</td>\n",
       "      <td>1216252.0</td>\n",
       "      <td>0.10</td>\n",
       "      <td>-0.0242</td>\n",
       "      <td>-0.0458</td>\n",
       "      <td>0.0736</td>\n",
       "      <td>35.0</td>\n",
       "      <td>3</td>\n",
       "      <td>3</td>\n",
       "      <td>2</td>\n",
       "      <td>0</td>\n",
       "      <td>0</td>\n",
       "      <td>1</td>\n",
       "    </tr>\n",
       "    <tr>\n",
       "      <td>1</td>\n",
       "      <td>Microsoft Corporation</td>\n",
       "      <td>3/13/1986</td>\n",
       "      <td>1208069.0</td>\n",
       "      <td>0.15</td>\n",
       "      <td>0.0346</td>\n",
       "      <td>0.0029</td>\n",
       "      <td>0.0713</td>\n",
       "      <td>34.0</td>\n",
       "      <td>3</td>\n",
       "      <td>3</td>\n",
       "      <td>2</td>\n",
       "      <td>1</td>\n",
       "      <td>1</td>\n",
       "      <td>1</td>\n",
       "    </tr>\n",
       "    <tr>\n",
       "      <td>2</td>\n",
       "      <td>Amazon.com, Inc.</td>\n",
       "      <td>5/15/1997</td>\n",
       "      <td>888591.6</td>\n",
       "      <td>0.60</td>\n",
       "      <td>0.0135</td>\n",
       "      <td>-0.0003</td>\n",
       "      <td>-0.0865</td>\n",
       "      <td>22.0</td>\n",
       "      <td>3</td>\n",
       "      <td>3</td>\n",
       "      <td>2</td>\n",
       "      <td>1</td>\n",
       "      <td>0</td>\n",
       "      <td>0</td>\n",
       "    </tr>\n",
       "    <tr>\n",
       "      <td>3</td>\n",
       "      <td>Alphabet Inc. Class A</td>\n",
       "      <td>8/19/2004</td>\n",
       "      <td>836412.7</td>\n",
       "      <td>0.23</td>\n",
       "      <td>0.0268</td>\n",
       "      <td>-0.0186</td>\n",
       "      <td>-0.1211</td>\n",
       "      <td>15.0</td>\n",
       "      <td>2</td>\n",
       "      <td>3</td>\n",
       "      <td>2</td>\n",
       "      <td>1</td>\n",
       "      <td>0</td>\n",
       "      <td>0</td>\n",
       "    </tr>\n",
       "    <tr>\n",
       "      <td>4</td>\n",
       "      <td>Facebook, Inc. Class A</td>\n",
       "      <td>5/18/2012</td>\n",
       "      <td>485374.8</td>\n",
       "      <td>0.01</td>\n",
       "      <td>-0.0114</td>\n",
       "      <td>0.0241</td>\n",
       "      <td>-0.0244</td>\n",
       "      <td>7.0</td>\n",
       "      <td>1</td>\n",
       "      <td>3</td>\n",
       "      <td>1</td>\n",
       "      <td>0</td>\n",
       "      <td>1</td>\n",
       "      <td>0</td>\n",
       "    </tr>\n",
       "  </tbody>\n",
       "</table>\n",
       "</div>"
      ],
      "text/plain": [
       "                     Name Date Public  MarketValue  PQ1Variance  \\\n",
       "0              Apple Inc.  11/05/1984    1216252.0         0.10   \n",
       "1   Microsoft Corporation   3/13/1986    1208069.0         0.15   \n",
       "2        Amazon.com, Inc.   5/15/1997     888591.6         0.60   \n",
       "3   Alphabet Inc. Class A   8/19/2004     836412.7         0.23   \n",
       "4  Facebook, Inc. Class A   5/18/2012     485374.8         0.01   \n",
       "\n",
       "   +10 Since Earnings  +20 Since Earnings  +30 Since Earnings   Age  AGECAT  \\\n",
       "0             -0.0242             -0.0458              0.0736  35.0       3   \n",
       "1              0.0346              0.0029              0.0713  34.0       3   \n",
       "2              0.0135             -0.0003             -0.0865  22.0       3   \n",
       "3              0.0268             -0.0186             -0.1211  15.0       2   \n",
       "4             -0.0114              0.0241             -0.0244   7.0       1   \n",
       "\n",
       "   MRKTVCAT  ExceedForecast  y  +20Gain/Loss  +30Gain/Loss  \n",
       "0         3               2  0             0             1  \n",
       "1         3               2  1             1             1  \n",
       "2         3               2  1             0             0  \n",
       "3         3               2  1             0             0  \n",
       "4         3               1  0             1             0  "
      ]
     },
     "execution_count": 25,
     "metadata": {},
     "output_type": "execute_result"
    }
   ],
   "source": [
    "df.head(5)"
   ]
  },
  {
   "cell_type": "markdown",
   "metadata": {},
   "source": [
    "## Ensure Data Types APPROPRIATE"
   ]
  },
  {
   "cell_type": "code",
   "execution_count": 26,
   "metadata": {},
   "outputs": [
    {
     "data": {
      "text/plain": [
       "Name                   object\n",
       "Date Public            object\n",
       "MarketValue           float64\n",
       "PQ1Variance           float64\n",
       "+10 Since Earnings    float64\n",
       "+20 Since Earnings    float64\n",
       "+30 Since Earnings    float64\n",
       "Age                   float64\n",
       "AGECAT                  int64\n",
       "MRKTVCAT                int64\n",
       "ExceedForecast          int64\n",
       "y                       int64\n",
       "+20Gain/Loss            int64\n",
       "+30Gain/Loss            int64\n",
       "dtype: object"
      ]
     },
     "execution_count": 26,
     "metadata": {},
     "output_type": "execute_result"
    }
   ],
   "source": [
    "df.dtypes"
   ]
  },
  {
   "cell_type": "code",
   "execution_count": 27,
   "metadata": {},
   "outputs": [
    {
     "data": {
      "text/plain": [
       "0    307\n",
       "1    184\n",
       "Name: y, dtype: int64"
      ]
     },
     "execution_count": 27,
     "metadata": {},
     "output_type": "execute_result"
    }
   ],
   "source": [
    "df['y'].value_counts()"
   ]
  },
  {
   "cell_type": "code",
   "execution_count": 28,
   "metadata": {},
   "outputs": [
    {
     "name": "stdout",
     "output_type": "stream",
     "text": [
      "percentage of Companies that Lost SV 62.52545824847251\n",
      "percentage of companies that gained SV 37.4745417515275\n"
     ]
    }
   ],
   "source": [
    "count_no_sub = len(df[df['y']==0])\n",
    "count_sub = len(df[df['y']==1])\n",
    "pct_of_no_sub = count_no_sub/(count_no_sub+count_sub)\n",
    "print(\"percentage of Companies that Lost SV\", pct_of_no_sub*100)\n",
    "pct_of_sub = count_sub/(count_no_sub+count_sub)\n",
    "print(\"percentage of companies that gained SV\", pct_of_sub*100)\n"
   ]
  },
  {
   "cell_type": "code",
   "execution_count": 29,
   "metadata": {},
   "outputs": [
    {
     "data": {
      "image/png": "[encoded data removed]",
      "text/plain": [
       "<Figure size 432x288 with 1 Axes>"
      ]
     },
     "metadata": {
      "needs_background": "light"
     },
     "output_type": "display_data"
    }
   ],
   "source": [
    "sns.countplot(x='y',data=df, palette='hls')\n",
    "plt.show()"
   ]
  },
  {
   "cell_type": "code",
   "execution_count": 30,
   "metadata": {},
   "outputs": [],
   "source": [
    "## I want Y to be +10 Earnings: \"Yes, it increased in value based off of X\""
   ]
  },
  {
   "cell_type": "code",
   "execution_count": 31,
   "metadata": {},
   "outputs": [],
   "source": [
    "## Train and test seperate "
   ]
  },
  {
   "cell_type": "code",
   "execution_count": 32,
   "metadata": {},
   "outputs": [
    {
     "data": {
      "text/plain": [
       "Text(0, 0.5, 'Frequency of Drift')"
      ]
     },
     "execution_count": 32,
     "metadata": {},
     "output_type": "execute_result"
    },
    {
     "data": {
      "image/png": "[encoded data removed]",
      "text/plain": [
       "<Figure size 432x288 with 1 Axes>"
      ]
     },
     "metadata": {
      "needs_background": "light"
     },
     "output_type": "display_data"
    }
   ],
   "source": [
    "%matplotlib inline\n",
    "pd.crosstab(df.MRKTVCAT,df.y).plot(kind='bar')\n",
    "plt.title('Drift by Mrkt Cap Size')\n",
    "plt.xlabel('Mrkt Cap Size')\n",
    "plt.ylabel('Frequency of Drift')"
   ]
  },
  {
   "cell_type": "code",
   "execution_count": 33,
   "metadata": {},
   "outputs": [
    {
     "data": {
      "text/plain": [
       "Text(0, 0.5, 'Frequency of Drift')"
      ]
     },
     "execution_count": 33,
     "metadata": {},
     "output_type": "execute_result"
    },
    {
     "data": {
      "image/png": "[encoded data removed]",
      "text/plain": [
       "<Figure size 432x288 with 1 Axes>"
      ]
     },
     "metadata": {
      "needs_background": "light"
     },
     "output_type": "display_data"
    }
   ],
   "source": [
    "%matplotlib inline\n",
    "pd.crosstab(df.AGECAT,df.y).plot(kind='bar')\n",
    "plt.title('Drift by Mrkt Cap Size')\n",
    "plt.xlabel('AGE CATEGORY')\n",
    "plt.ylabel('Frequency of Drift')"
   ]
  },
  {
   "cell_type": "code",
   "execution_count": 34,
   "metadata": {},
   "outputs": [
    {
     "data": {
      "text/plain": [
       "Text(0, 0.5, 'Frequency of Drift')"
      ]
     },
     "execution_count": 34,
     "metadata": {},
     "output_type": "execute_result"
    },
    {
     "data": {
      "image/png": "[encoded data removed]",
      "text/plain": [
       "<Figure size 432x288 with 1 Axes>"
      ]
     },
     "metadata": {
      "needs_background": "light"
     },
     "output_type": "display_data"
    }
   ],
   "source": [
    "%matplotlib inline\n",
    "pd.crosstab(df.ExceedForecast,df.y).plot(kind='bar')\n",
    "plt.title('Drift: ExceedForecast')\n",
    "plt.xlabel('')\n",
    "plt.ylabel('Frequency of Drift')"
   ]
  },
  {
   "cell_type": "code",
   "execution_count": 35,
   "metadata": {},
   "outputs": [],
   "source": [
    "##SHOULD WE CONCATENATE TO CREATE A SUPER VARIABLE? \n"
   ]
  },
  {
   "cell_type": "code",
   "execution_count": 36,
   "metadata": {},
   "outputs": [
    {
     "data": {
      "text/html": [
       "<div>\n",
       "<style scoped>\n",
       "    .dataframe tbody tr th:only-of-type {\n",
       "        vertical-align: middle;\n",
       "    }\n",
       "\n",
       "    .dataframe tbody tr th {\n",
       "        vertical-align: top;\n",
       "    }\n",
       "\n",
       "    .dataframe thead th {\n",
       "        text-align: right;\n",
       "    }\n",
       "</style>\n",
       "<table border=\"1\" class=\"dataframe\">\n",
       "  <thead>\n",
       "    <tr style=\"text-align: right;\">\n",
       "      <th></th>\n",
       "      <th>Name</th>\n",
       "      <th>Date Public</th>\n",
       "      <th>MarketValue</th>\n",
       "      <th>PQ1Variance</th>\n",
       "      <th>+10 Since Earnings</th>\n",
       "      <th>+20 Since Earnings</th>\n",
       "      <th>+30 Since Earnings</th>\n",
       "      <th>Age</th>\n",
       "      <th>AGECAT</th>\n",
       "      <th>MRKTVCAT</th>\n",
       "      <th>ExceedForecast</th>\n",
       "      <th>y</th>\n",
       "      <th>+20Gain/Loss</th>\n",
       "      <th>+30Gain/Loss</th>\n",
       "    </tr>\n",
       "  </thead>\n",
       "  <tbody>\n",
       "    <tr>\n",
       "      <td>0</td>\n",
       "      <td>Apple Inc.</td>\n",
       "      <td>11/05/1984</td>\n",
       "      <td>1216252.0</td>\n",
       "      <td>0.10</td>\n",
       "      <td>-0.0242</td>\n",
       "      <td>-0.0458</td>\n",
       "      <td>0.0736</td>\n",
       "      <td>35.0</td>\n",
       "      <td>3</td>\n",
       "      <td>3</td>\n",
       "      <td>2</td>\n",
       "      <td>0</td>\n",
       "      <td>0</td>\n",
       "      <td>1</td>\n",
       "    </tr>\n",
       "    <tr>\n",
       "      <td>1</td>\n",
       "      <td>Microsoft Corporation</td>\n",
       "      <td>3/13/1986</td>\n",
       "      <td>1208069.0</td>\n",
       "      <td>0.15</td>\n",
       "      <td>0.0346</td>\n",
       "      <td>0.0029</td>\n",
       "      <td>0.0713</td>\n",
       "      <td>34.0</td>\n",
       "      <td>3</td>\n",
       "      <td>3</td>\n",
       "      <td>2</td>\n",
       "      <td>1</td>\n",
       "      <td>1</td>\n",
       "      <td>1</td>\n",
       "    </tr>\n",
       "    <tr>\n",
       "      <td>2</td>\n",
       "      <td>Amazon.com, Inc.</td>\n",
       "      <td>5/15/1997</td>\n",
       "      <td>888591.6</td>\n",
       "      <td>0.60</td>\n",
       "      <td>0.0135</td>\n",
       "      <td>-0.0003</td>\n",
       "      <td>-0.0865</td>\n",
       "      <td>22.0</td>\n",
       "      <td>3</td>\n",
       "      <td>3</td>\n",
       "      <td>2</td>\n",
       "      <td>1</td>\n",
       "      <td>0</td>\n",
       "      <td>0</td>\n",
       "    </tr>\n",
       "    <tr>\n",
       "      <td>3</td>\n",
       "      <td>Alphabet Inc. Class A</td>\n",
       "      <td>8/19/2004</td>\n",
       "      <td>836412.7</td>\n",
       "      <td>0.23</td>\n",
       "      <td>0.0268</td>\n",
       "      <td>-0.0186</td>\n",
       "      <td>-0.1211</td>\n",
       "      <td>15.0</td>\n",
       "      <td>2</td>\n",
       "      <td>3</td>\n",
       "      <td>2</td>\n",
       "      <td>1</td>\n",
       "      <td>0</td>\n",
       "      <td>0</td>\n",
       "    </tr>\n",
       "    <tr>\n",
       "      <td>4</td>\n",
       "      <td>Facebook, Inc. Class A</td>\n",
       "      <td>5/18/2012</td>\n",
       "      <td>485374.8</td>\n",
       "      <td>0.01</td>\n",
       "      <td>-0.0114</td>\n",
       "      <td>0.0241</td>\n",
       "      <td>-0.0244</td>\n",
       "      <td>7.0</td>\n",
       "      <td>1</td>\n",
       "      <td>3</td>\n",
       "      <td>1</td>\n",
       "      <td>0</td>\n",
       "      <td>1</td>\n",
       "      <td>0</td>\n",
       "    </tr>\n",
       "    <tr>\n",
       "      <td>...</td>\n",
       "      <td>...</td>\n",
       "      <td>...</td>\n",
       "      <td>...</td>\n",
       "      <td>...</td>\n",
       "      <td>...</td>\n",
       "      <td>...</td>\n",
       "      <td>...</td>\n",
       "      <td>...</td>\n",
       "      <td>...</td>\n",
       "      <td>...</td>\n",
       "      <td>...</td>\n",
       "      <td>...</td>\n",
       "      <td>...</td>\n",
       "      <td>...</td>\n",
       "    </tr>\n",
       "    <tr>\n",
       "      <td>495</td>\n",
       "      <td>Macy's Inc</td>\n",
       "      <td>2/05/1992</td>\n",
       "      <td>2481.3</td>\n",
       "      <td>0.08</td>\n",
       "      <td>-0.2136</td>\n",
       "      <td>-0.2242</td>\n",
       "      <td>0.0000</td>\n",
       "      <td>28.0</td>\n",
       "      <td>3</td>\n",
       "      <td>1</td>\n",
       "      <td>2</td>\n",
       "      <td>0</td>\n",
       "      <td>0</td>\n",
       "      <td>0</td>\n",
       "    </tr>\n",
       "    <tr>\n",
       "      <td>496</td>\n",
       "      <td>Norwegian Cruise Line Holdings Ltd.</td>\n",
       "      <td>1/18/2013</td>\n",
       "      <td>2366.6</td>\n",
       "      <td>0.04</td>\n",
       "      <td>-0.3083</td>\n",
       "      <td>-0.6118</td>\n",
       "      <td>0.0000</td>\n",
       "      <td>7.0</td>\n",
       "      <td>1</td>\n",
       "      <td>1</td>\n",
       "      <td>2</td>\n",
       "      <td>0</td>\n",
       "      <td>0</td>\n",
       "      <td>0</td>\n",
       "    </tr>\n",
       "    <tr>\n",
       "      <td>497</td>\n",
       "      <td>Alliance Data Systems Corporation</td>\n",
       "      <td>6/08/2001</td>\n",
       "      <td>2358.0</td>\n",
       "      <td>-0.01</td>\n",
       "      <td>-0.0631</td>\n",
       "      <td>-0.0491</td>\n",
       "      <td>-0.3326</td>\n",
       "      <td>18.0</td>\n",
       "      <td>2</td>\n",
       "      <td>1</td>\n",
       "      <td>0</td>\n",
       "      <td>0</td>\n",
       "      <td>0</td>\n",
       "      <td>0</td>\n",
       "    </tr>\n",
       "    <tr>\n",
       "      <td>498</td>\n",
       "      <td>Capri Holdings Limited</td>\n",
       "      <td>12/15/2011</td>\n",
       "      <td>2080.7</td>\n",
       "      <td>0.04</td>\n",
       "      <td>-0.1459</td>\n",
       "      <td>-0.0882</td>\n",
       "      <td>-0.4037</td>\n",
       "      <td>8.0</td>\n",
       "      <td>1</td>\n",
       "      <td>1</td>\n",
       "      <td>2</td>\n",
       "      <td>0</td>\n",
       "      <td>0</td>\n",
       "      <td>0</td>\n",
       "    </tr>\n",
       "    <tr>\n",
       "      <td>499</td>\n",
       "      <td>Helmerich &amp; Payne, Inc.</td>\n",
       "      <td>11/05/1984</td>\n",
       "      <td>1906.5</td>\n",
       "      <td>0.60</td>\n",
       "      <td>0.0628</td>\n",
       "      <td>-0.1565</td>\n",
       "      <td>-0.4986</td>\n",
       "      <td>35.0</td>\n",
       "      <td>3</td>\n",
       "      <td>1</td>\n",
       "      <td>2</td>\n",
       "      <td>1</td>\n",
       "      <td>0</td>\n",
       "      <td>0</td>\n",
       "    </tr>\n",
       "  </tbody>\n",
       "</table>\n",
       "<p>491 rows × 14 columns</p>\n",
       "</div>"
      ],
      "text/plain": [
       "                                    Name Date Public  MarketValue  \\\n",
       "0                             Apple Inc.  11/05/1984    1216252.0   \n",
       "1                  Microsoft Corporation   3/13/1986    1208069.0   \n",
       "2                       Amazon.com, Inc.   5/15/1997     888591.6   \n",
       "3                  Alphabet Inc. Class A   8/19/2004     836412.7   \n",
       "4                 Facebook, Inc. Class A   5/18/2012     485374.8   \n",
       "..                                   ...         ...          ...   \n",
       "495                           Macy's Inc   2/05/1992       2481.3   \n",
       "496  Norwegian Cruise Line Holdings Ltd.   1/18/2013       2366.6   \n",
       "497    Alliance Data Systems Corporation   6/08/2001       2358.0   \n",
       "498               Capri Holdings Limited  12/15/2011       2080.7   \n",
       "499              Helmerich & Payne, Inc.  11/05/1984       1906.5   \n",
       "\n",
       "     PQ1Variance  +10 Since Earnings  +20 Since Earnings  +30 Since Earnings  \\\n",
       "0           0.10             -0.0242             -0.0458              0.0736   \n",
       "1           0.15              0.0346              0.0029              0.0713   \n",
       "2           0.60              0.0135             -0.0003             -0.0865   \n",
       "3           0.23              0.0268             -0.0186             -0.1211   \n",
       "4           0.01             -0.0114              0.0241             -0.0244   \n",
       "..           ...                 ...                 ...                 ...   \n",
       "495         0.08             -0.2136             -0.2242              0.0000   \n",
       "496         0.04             -0.3083             -0.6118              0.0000   \n",
       "497        -0.01             -0.0631             -0.0491             -0.3326   \n",
       "498         0.04             -0.1459             -0.0882             -0.4037   \n",
       "499         0.60              0.0628             -0.1565             -0.4986   \n",
       "\n",
       "      Age  AGECAT  MRKTVCAT  ExceedForecast  y  +20Gain/Loss  +30Gain/Loss  \n",
       "0    35.0       3         3               2  0             0             1  \n",
       "1    34.0       3         3               2  1             1             1  \n",
       "2    22.0       3         3               2  1             0             0  \n",
       "3    15.0       2         3               2  1             0             0  \n",
       "4     7.0       1         3               1  0             1             0  \n",
       "..    ...     ...       ...             ... ..           ...           ...  \n",
       "495  28.0       3         1               2  0             0             0  \n",
       "496   7.0       1         1               2  0             0             0  \n",
       "497  18.0       2         1               0  0             0             0  \n",
       "498   8.0       1         1               2  0             0             0  \n",
       "499  35.0       3         1               2  1             0             0  \n",
       "\n",
       "[491 rows x 14 columns]"
      ]
     },
     "execution_count": 36,
     "metadata": {},
     "output_type": "execute_result"
    }
   ],
   "source": [
    "df\n"
   ]
  },
  {
   "cell_type": "code",
   "execution_count": 37,
   "metadata": {},
   "outputs": [],
   "source": [
    "df = df[['AGECAT','Name','MRKTVCAT','ExceedForecast','y']]"
   ]
  },
  {
   "cell_type": "code",
   "execution_count": 38,
   "metadata": {},
   "outputs": [],
   "source": [
    "cols=['AGECAT', 'MRKTVCAT', 'ExceedForecast'] \n",
    "X=df[cols]\n",
    "y=df['y']"
   ]
  },
  {
   "cell_type": "code",
   "execution_count": 39,
   "metadata": {},
   "outputs": [
    {
     "data": {
      "text/html": [
       "<div>\n",
       "<style scoped>\n",
       "    .dataframe tbody tr th:only-of-type {\n",
       "        vertical-align: middle;\n",
       "    }\n",
       "\n",
       "    .dataframe tbody tr th {\n",
       "        vertical-align: top;\n",
       "    }\n",
       "\n",
       "    .dataframe thead th {\n",
       "        text-align: right;\n",
       "    }\n",
       "</style>\n",
       "<table border=\"1\" class=\"dataframe\">\n",
       "  <thead>\n",
       "    <tr style=\"text-align: right;\">\n",
       "      <th></th>\n",
       "      <th>AGECAT</th>\n",
       "      <th>MRKTVCAT</th>\n",
       "      <th>ExceedForecast</th>\n",
       "    </tr>\n",
       "  </thead>\n",
       "  <tbody>\n",
       "    <tr>\n",
       "      <td>0</td>\n",
       "      <td>3</td>\n",
       "      <td>3</td>\n",
       "      <td>2</td>\n",
       "    </tr>\n",
       "    <tr>\n",
       "      <td>1</td>\n",
       "      <td>3</td>\n",
       "      <td>3</td>\n",
       "      <td>2</td>\n",
       "    </tr>\n",
       "    <tr>\n",
       "      <td>2</td>\n",
       "      <td>3</td>\n",
       "      <td>3</td>\n",
       "      <td>2</td>\n",
       "    </tr>\n",
       "    <tr>\n",
       "      <td>3</td>\n",
       "      <td>2</td>\n",
       "      <td>3</td>\n",
       "      <td>2</td>\n",
       "    </tr>\n",
       "    <tr>\n",
       "      <td>4</td>\n",
       "      <td>1</td>\n",
       "      <td>3</td>\n",
       "      <td>1</td>\n",
       "    </tr>\n",
       "    <tr>\n",
       "      <td>...</td>\n",
       "      <td>...</td>\n",
       "      <td>...</td>\n",
       "      <td>...</td>\n",
       "    </tr>\n",
       "    <tr>\n",
       "      <td>495</td>\n",
       "      <td>3</td>\n",
       "      <td>1</td>\n",
       "      <td>2</td>\n",
       "    </tr>\n",
       "    <tr>\n",
       "      <td>496</td>\n",
       "      <td>1</td>\n",
       "      <td>1</td>\n",
       "      <td>2</td>\n",
       "    </tr>\n",
       "    <tr>\n",
       "      <td>497</td>\n",
       "      <td>2</td>\n",
       "      <td>1</td>\n",
       "      <td>0</td>\n",
       "    </tr>\n",
       "    <tr>\n",
       "      <td>498</td>\n",
       "      <td>1</td>\n",
       "      <td>1</td>\n",
       "      <td>2</td>\n",
       "    </tr>\n",
       "    <tr>\n",
       "      <td>499</td>\n",
       "      <td>3</td>\n",
       "      <td>1</td>\n",
       "      <td>2</td>\n",
       "    </tr>\n",
       "  </tbody>\n",
       "</table>\n",
       "<p>491 rows × 3 columns</p>\n",
       "</div>"
      ],
      "text/plain": [
       "     AGECAT  MRKTVCAT  ExceedForecast\n",
       "0         3         3               2\n",
       "1         3         3               2\n",
       "2         3         3               2\n",
       "3         2         3               2\n",
       "4         1         3               1\n",
       "..      ...       ...             ...\n",
       "495       3         1               2\n",
       "496       1         1               2\n",
       "497       2         1               0\n",
       "498       1         1               2\n",
       "499       3         1               2\n",
       "\n",
       "[491 rows x 3 columns]"
      ]
     },
     "execution_count": 39,
     "metadata": {},
     "output_type": "execute_result"
    }
   ],
   "source": [
    "X"
   ]
  },
  {
   "cell_type": "code",
   "execution_count": 40,
   "metadata": {},
   "outputs": [
    {
     "data": {
      "text/plain": [
       "0      0\n",
       "1      1\n",
       "2      1\n",
       "3      1\n",
       "4      0\n",
       "      ..\n",
       "495    0\n",
       "496    0\n",
       "497    0\n",
       "498    0\n",
       "499    1\n",
       "Name: y, Length: 491, dtype: int64"
      ]
     },
     "execution_count": 40,
     "metadata": {},
     "output_type": "execute_result"
    }
   ],
   "source": [
    "y"
   ]
  },
  {
   "cell_type": "code",
   "execution_count": 41,
   "metadata": {},
   "outputs": [
    {
     "name": "stdout",
     "output_type": "stream",
     "text": [
      "Optimization terminated successfully.\n",
      "         Current function value: 0.654791\n",
      "         Iterations 4\n",
      "                        Results: Logit\n",
      "===============================================================\n",
      "Model:              Logit            Pseudo R-squared: 0.010   \n",
      "Dependent Variable: y                AIC:              649.0048\n",
      "Date:               2020-04-08 00:03 BIC:              661.5941\n",
      "No. Observations:   491              Log-Likelihood:   -321.50 \n",
      "Df Model:           2                LL-Null:          -324.76 \n",
      "Df Residuals:       488              LLR p-value:      0.038341\n",
      "Converged:          1.0000           Scale:            1.0000  \n",
      "No. Iterations:     4.0000                                     \n",
      "---------------------------------------------------------------\n",
      "                 Coef.  Std.Err.    z    P>|z|   [0.025  0.975]\n",
      "---------------------------------------------------------------\n",
      "AGECAT          -0.3978   0.0933 -4.2614 0.0000 -0.5808 -0.2148\n",
      "MRKTVCAT         0.2915   0.1173  2.4860 0.0129  0.0617  0.5213\n",
      "ExceedForecast   0.0077   0.0990  0.0776 0.9382 -0.1863  0.2017\n",
      "===============================================================\n",
      "\n"
     ]
    }
   ],
   "source": [
    "import statsmodels.api as sm\n",
    "logit_model=sm.Logit(y,X)\n",
    "result=logit_model.fit()\n",
    "print(result.summary2())\n"
   ]
  },
  {
   "cell_type": "code",
   "execution_count": 42,
   "metadata": {},
   "outputs": [
    {
     "data": {
      "text/plain": [
       "LogisticRegression(C=1.0, class_weight=None, dual=False, fit_intercept=True,\n",
       "                   intercept_scaling=1, l1_ratio=None, max_iter=100,\n",
       "                   multi_class='auto', n_jobs=None, penalty='l2',\n",
       "                   random_state=None, solver='lbfgs', tol=0.0001, verbose=0,\n",
       "                   warm_start=False)"
      ]
     },
     "execution_count": 42,
     "metadata": {},
     "output_type": "execute_result"
    }
   ],
   "source": [
    "from sklearn.linear_model import LogisticRegression\n",
    "from sklearn import metrics\n",
    "X_train, X_test, y_train, y_test = train_test_split(X, y, test_size=0.4, random_state=1)\n",
    "logreg = LogisticRegression()\n",
    "logreg.fit(X_train, y_train)"
   ]
  },
  {
   "cell_type": "code",
   "execution_count": 43,
   "metadata": {},
   "outputs": [
    {
     "name": "stdout",
     "output_type": "stream",
     "text": [
      "Accuracy of logistic regression classifier on test set: 0.61\n"
     ]
    }
   ],
   "source": [
    "y_pred = logreg.predict(X_test)\n",
    "print('Accuracy of logistic regression classifier on test set: {:.2f}'.format(logreg.score(X_test, y_test)))"
   ]
  },
  {
   "cell_type": "code",
   "execution_count": 44,
   "metadata": {},
   "outputs": [
    {
     "name": "stdout",
     "output_type": "stream",
     "text": [
      "              precision    recall  f1-score   support\n",
      "\n",
      "           0       0.61      0.99      0.75       119\n",
      "           1       0.67      0.03      0.05        78\n",
      "\n",
      "    accuracy                           0.61       197\n",
      "   macro avg       0.64      0.51      0.40       197\n",
      "weighted avg       0.63      0.61      0.48       197\n",
      "\n"
     ]
    }
   ],
   "source": [
    "from sklearn.metrics import classification_report\n",
    "print(classification_report(y_test, y_pred))"
   ]
  },
  {
   "cell_type": "code",
   "execution_count": 52,
   "metadata": {},
   "outputs": [],
   "source": [
    "df = df[['AGECAT','MRKTVCAT','ExceedForecast','y']]"
   ]
  },
  {
   "cell_type": "code",
   "execution_count": 53,
   "metadata": {},
   "outputs": [
    {
     "name": "stdout",
     "output_type": "stream",
     "text": [
      "length of oversampled data is  440\n",
      "Number of no subscription in oversampled data 220\n",
      "Number of subscription 220\n",
      "Proportion of no subscription data in oversampled data is  0.5\n",
      "Proportion of subscription data in oversampled data is  0.5\n"
     ]
    }
   ],
   "source": [
    "X = df.loc[:, df.columns != 'y']\n",
    "y = df.loc[:, df.columns == 'y']\n",
    "from imblearn.over_sampling import SMOTE\n",
    "os = SMOTE(random_state=0)\n",
    "X_train, X_test, y_train, y_test = train_test_split(X, y, test_size=0.3, random_state=0)\n",
    "columns = X_train.columns\n",
    "os_data_X,os_data_y=os.fit_sample(X_train, y_train)\n",
    "os_data_X = pd.DataFrame(data=os_data_X,columns=columns )\n",
    "os_data_y= pd.DataFrame(data=os_data_y,columns=['y'])\n",
    "# we can Check the numbers of our data\n",
    "print(\"length of oversampled data is \",len(os_data_X))\n",
    "print(\"Number of no subscription in oversampled data\",len(os_data_y[os_data_y['y']==0]))\n",
    "print(\"Number of subscription\",len(os_data_y[os_data_y['y']==1]))\n",
    "print(\"Proportion of no subscription data in oversampled data is \",len(os_data_y[os_data_y['y']==0])/len(os_data_X))\n",
    "print(\"Proportion of subscription data in oversampled data is \",len(os_data_y[os_data_y['y']==1])/len(os_data_X))"
   ]
  },
  {
   "cell_type": "code",
   "execution_count": 47,
   "metadata": {},
   "outputs": [
    {
     "data": {
      "text/plain": [
       "(343, 3)"
      ]
     },
     "execution_count": 47,
     "metadata": {},
     "output_type": "execute_result"
    }
   ],
   "source": [
    "X_train.shape"
   ]
  },
  {
   "cell_type": "code",
   "execution_count": 48,
   "metadata": {},
   "outputs": [
    {
     "data": {
      "text/plain": [
       "(440, 3)"
      ]
     },
     "execution_count": 48,
     "metadata": {},
     "output_type": "execute_result"
    }
   ],
   "source": [
    "os_data_X.shape"
   ]
  },
  {
   "cell_type": "code",
   "execution_count": 49,
   "metadata": {},
   "outputs": [
    {
     "data": {
      "text/plain": [
       "(440, 1)"
      ]
     },
     "execution_count": 49,
     "metadata": {},
     "output_type": "execute_result"
    }
   ],
   "source": [
    "os_data_y.shape"
   ]
  },
  {
   "cell_type": "code",
   "execution_count": 50,
   "metadata": {},
   "outputs": [
    {
     "name": "stderr",
     "output_type": "stream",
     "text": [
      "/opt/anaconda3/lib/python3.7/site-packages/sklearn/utils/validation.py:760: DataConversionWarning: A column-vector y was passed when a 1d array was expected. Please change the shape of y to (n_samples, ), for example using ravel().\n",
      "  y = column_or_1d(y, warn=True)\n"
     ]
    },
    {
     "data": {
      "text/plain": [
       "LogisticRegression(C=1.0, class_weight=None, dual=False, fit_intercept=True,\n",
       "                   intercept_scaling=1, l1_ratio=None, max_iter=100,\n",
       "                   multi_class='auto', n_jobs=None, penalty='l2',\n",
       "                   random_state=None, solver='lbfgs', tol=0.0001, verbose=0,\n",
       "                   warm_start=False)"
      ]
     },
     "execution_count": 50,
     "metadata": {},
     "output_type": "execute_result"
    }
   ],
   "source": [
    "# X_train, X_test, y_train, y_test = train_test_split(X, y, test_size=0.4, random_state=1)\n",
    "logreg2 = LogisticRegression()\n",
    "logreg2.fit(os_data_X, os_data_y)"
   ]
  },
  {
   "cell_type": "code",
   "execution_count": 51,
   "metadata": {},
   "outputs": [
    {
     "name": "stdout",
     "output_type": "stream",
     "text": [
      "Accuracy of logistic regression classifier on test set: 0.55\n"
     ]
    }
   ],
   "source": [
    "y_pred = logreg2.predict(X_test)\n",
    "print('Accuracy of logistic regression classifier on test set: {:.2f}'.format(logreg2.score(X_test, y_test)))"
   ]
  },
  {
   "cell_type": "code",
   "execution_count": 1,
   "metadata": {},
   "outputs": [
    {
     "ename": "NameError",
     "evalue": "name 'model' is not defined",
     "output_type": "error",
     "traceback": [
      "\u001b[0;31m---------------------------------------------------------------------------\u001b[0m",
      "\u001b[0;31mNameError\u001b[0m                                 Traceback (most recent call last)",
      "\u001b[0;32m<ipython-input-1-20d07544074f>\u001b[0m in \u001b[0;36m<module>\u001b[0;34m\u001b[0m\n\u001b[0;32m----> 1\u001b[0;31m \u001b[0mmodel\u001b[0m\u001b[0;34m.\u001b[0m\u001b[0mparams\u001b[0m\u001b[0;34m[\u001b[0m\u001b[0;34m'Intercept'\u001b[0m\u001b[0;34m]\u001b[0m\u001b[0;34m\u001b[0m\u001b[0;34m\u001b[0m\u001b[0m\n\u001b[0m",
      "\u001b[0;31mNameError\u001b[0m: name 'model' is not defined"
     ]
    }
   ],
   "source": [
    "model.params['Intercept']"
   ]
  },
  {
   "cell_type": "code",
   "execution_count": null,
   "metadata": {},
   "outputs": [],
   "source": []
  }
 ],
 "metadata": {
  "kernelspec": {
   "display_name": "Python 3",
   "language": "python",
   "name": "python3"
  },
  "language_info": {
   "codemirror_mode": {
    "name": "ipython",
    "version": 3
   },
   "file_extension": ".py",
   "mimetype": "text/x-python",
   "name": "python",
   "nbconvert_exporter": "python",
   "pygments_lexer": "ipython3",
   "version": "3.7.4"
  }
 },
 "nbformat": 4,
 "nbformat_minor": 2
}
