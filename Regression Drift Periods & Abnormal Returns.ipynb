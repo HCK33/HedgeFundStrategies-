{
 "cells": [
  {
   "cell_type": "code",
   "execution_count": 563,
   "metadata": {},
   "outputs": [],
   "source": [
    "import os\n",
    "import numpy as np\n",
    "import pandas as pd\n",
    "from sklearn import preprocessing\n",
    "\n",
    "import matplotlib.pyplot as plt\n",
    "plt.rc(\"font\", size=14)\n",
    "import seaborn as sns\n",
    "import statsmodels.api as sm\n",
    "import statsmodels.formula.api as smf\n",
    "from sklearn.linear_model import LogisticRegression\n",
    "from sklearn.model_selection import train_test_split\n",
    "sns.set(style=\"white\")\n",
    "sns.set(style=\"whitegrid\", color_codes=True)\n",
    "pd.set_option('display.max_rows', 20)\n",
    "pd.set_option('display.notebook_repr_html', True)\n",
    "pd.set_option('display.max_columns', 25)\n",
    "%matplotlib inline\n",
    "plt.style.use('ggplot')"
   ]
  },
  {
   "cell_type": "code",
   "execution_count": 564,
   "metadata": {},
   "outputs": [
    {
     "name": "stdout",
     "output_type": "stream",
     "text": [
      "(500, 18)\n",
      "['NAME', 'DATEPUBLIC', 'MARKETVAL', 'TRADEVOLUME', 'BETAESTIMATE', 'UPDOWN10DB4EARN', 'VARIANCE', '10DAYSAFTER', 'GAIN_YN10', '20DAYSOUT', 'GAINY/N20', '30DAYSOUT', 'GAINY/N30', 'DRIFTSCORE', 'EarningsPerShare', 'REVQ1', 'REVQ2', 'REVGROWTH ']\n"
     ]
    }
   ],
   "source": [
    "data = pd.read_csv('EPSLINEAR.csv')\n",
    "print(data.shape)\n",
    "print(list(data.columns))"
   ]
  },
  {
   "cell_type": "code",
   "execution_count": 565,
   "metadata": {},
   "outputs": [
    {
     "data": {
      "text/html": [
       "<div>\n",
       "<style scoped>\n",
       "    .dataframe tbody tr th:only-of-type {\n",
       "        vertical-align: middle;\n",
       "    }\n",
       "\n",
       "    .dataframe tbody tr th {\n",
       "        vertical-align: top;\n",
       "    }\n",
       "\n",
       "    .dataframe thead th {\n",
       "        text-align: right;\n",
       "    }\n",
       "</style>\n",
       "<table border=\"1\" class=\"dataframe\">\n",
       "  <thead>\n",
       "    <tr style=\"text-align: right;\">\n",
       "      <th></th>\n",
       "      <th>NAME</th>\n",
       "      <th>DATEPUBLIC</th>\n",
       "      <th>MARKETVAL</th>\n",
       "      <th>TRADEVOLUME</th>\n",
       "      <th>BETAESTIMATE</th>\n",
       "      <th>UPDOWN10DB4EARN</th>\n",
       "      <th>VARIANCE</th>\n",
       "      <th>10DAYSAFTER</th>\n",
       "      <th>GAIN_YN10</th>\n",
       "      <th>20DAYSOUT</th>\n",
       "      <th>GAINY/N20</th>\n",
       "      <th>30DAYSOUT</th>\n",
       "      <th>GAINY/N30</th>\n",
       "      <th>DRIFTSCORE</th>\n",
       "      <th>EarningsPerShare</th>\n",
       "      <th>REVQ1</th>\n",
       "      <th>REVQ2</th>\n",
       "      <th>REVGROWTH</th>\n",
       "    </tr>\n",
       "  </thead>\n",
       "  <tbody>\n",
       "    <tr>\n",
       "      <td>0</td>\n",
       "      <td>Royal Caribbean Cruises Ltd.</td>\n",
       "      <td>4/28/1993</td>\n",
       "      <td>6,757.0</td>\n",
       "      <td>0</td>\n",
       "      <td>2</td>\n",
       "      <td>-13.77%</td>\n",
       "      <td>-0.26%</td>\n",
       "      <td>-5.92%</td>\n",
       "      <td>0</td>\n",
       "      <td>-28.51%</td>\n",
       "      <td>0</td>\n",
       "      <td>-59.26%</td>\n",
       "      <td>0</td>\n",
       "      <td>0</td>\n",
       "      <td>NaN</td>\n",
       "      <td>NaN</td>\n",
       "      <td>NaN</td>\n",
       "      <td>NaN</td>\n",
       "    </tr>\n",
       "    <tr>\n",
       "      <td>1</td>\n",
       "      <td>Marathon Petroleum Corporation</td>\n",
       "      <td>6/23/2011</td>\n",
       "      <td>16,198.0</td>\n",
       "      <td>0</td>\n",
       "      <td>2</td>\n",
       "      <td>-11.22%</td>\n",
       "      <td>82.86%</td>\n",
       "      <td>9.96%</td>\n",
       "      <td>1</td>\n",
       "      <td>-18.67%</td>\n",
       "      <td>0</td>\n",
       "      <td>-52.24%</td>\n",
       "      <td>0</td>\n",
       "      <td>1</td>\n",
       "      <td>NaN</td>\n",
       "      <td>NaN</td>\n",
       "      <td>NaN</td>\n",
       "      <td>NaN</td>\n",
       "    </tr>\n",
       "    <tr>\n",
       "      <td>2</td>\n",
       "      <td>Helmerich &amp; Payne, Inc.</td>\n",
       "      <td>11/05/1984</td>\n",
       "      <td>1,906.5</td>\n",
       "      <td>0</td>\n",
       "      <td>2</td>\n",
       "      <td>-9.71%</td>\n",
       "      <td>59.68%</td>\n",
       "      <td>9.10%</td>\n",
       "      <td>1</td>\n",
       "      <td>-23.19%</td>\n",
       "      <td>0</td>\n",
       "      <td>-49.86%</td>\n",
       "      <td>0</td>\n",
       "      <td>1</td>\n",
       "      <td>NaN</td>\n",
       "      <td>NaN</td>\n",
       "      <td>NaN</td>\n",
       "      <td>NaN</td>\n",
       "    </tr>\n",
       "    <tr>\n",
       "      <td>3</td>\n",
       "      <td>Boeing Company</td>\n",
       "      <td>11/05/1984</td>\n",
       "      <td>95,848.5</td>\n",
       "      <td>1</td>\n",
       "      <td>0</td>\n",
       "      <td>-4.14%</td>\n",
       "      <td>-276.71%</td>\n",
       "      <td>7.90%</td>\n",
       "      <td>1</td>\n",
       "      <td>-17.18%</td>\n",
       "      <td>0</td>\n",
       "      <td>-46.19%</td>\n",
       "      <td>0</td>\n",
       "      <td>1</td>\n",
       "      <td>NaN</td>\n",
       "      <td>NaN</td>\n",
       "      <td>NaN</td>\n",
       "      <td>NaN</td>\n",
       "    </tr>\n",
       "    <tr>\n",
       "      <td>4</td>\n",
       "      <td>American Airlines Group, Inc.</td>\n",
       "      <td>12/09/2013</td>\n",
       "      <td>6,096.9</td>\n",
       "      <td>1</td>\n",
       "      <td>2</td>\n",
       "      <td>0.37%</td>\n",
       "      <td>0.78%</td>\n",
       "      <td>-1.74%</td>\n",
       "      <td>0</td>\n",
       "      <td>-1.70%</td>\n",
       "      <td>0</td>\n",
       "      <td>-42.60%</td>\n",
       "      <td>0</td>\n",
       "      <td>0</td>\n",
       "      <td>NaN</td>\n",
       "      <td>NaN</td>\n",
       "      <td>NaN</td>\n",
       "      <td>NaN</td>\n",
       "    </tr>\n",
       "  </tbody>\n",
       "</table>\n",
       "</div>"
      ],
      "text/plain": [
       "                             NAME  DATEPUBLIC MARKETVAL  TRADEVOLUME  \\\n",
       "0    Royal Caribbean Cruises Ltd.   4/28/1993   6,757.0            0   \n",
       "1  Marathon Petroleum Corporation   6/23/2011  16,198.0            0   \n",
       "2         Helmerich & Payne, Inc.  11/05/1984   1,906.5            0   \n",
       "3                  Boeing Company  11/05/1984  95,848.5            1   \n",
       "4   American Airlines Group, Inc.  12/09/2013   6,096.9            1   \n",
       "\n",
       "   BETAESTIMATE UPDOWN10DB4EARN  VARIANCE 10DAYSAFTER  GAIN_YN10 20DAYSOUT  \\\n",
       "0             2         -13.77%    -0.26%      -5.92%          0   -28.51%   \n",
       "1             2         -11.22%    82.86%       9.96%          1   -18.67%   \n",
       "2             2          -9.71%    59.68%       9.10%          1   -23.19%   \n",
       "3             0          -4.14%  -276.71%       7.90%          1   -17.18%   \n",
       "4             2           0.37%     0.78%      -1.74%          0    -1.70%   \n",
       "\n",
       "   GAINY/N20 30DAYSOUT  GAINY/N30  DRIFTSCORE  EarningsPerShare  REVQ1  REVQ2  \\\n",
       "0          0   -59.26%          0           0               NaN    NaN    NaN   \n",
       "1          0   -52.24%          0           1               NaN    NaN    NaN   \n",
       "2          0   -49.86%          0           1               NaN    NaN    NaN   \n",
       "3          0   -46.19%          0           1               NaN    NaN    NaN   \n",
       "4          0   -42.60%          0           0               NaN    NaN    NaN   \n",
       "\n",
       "   REVGROWTH   \n",
       "0         NaN  \n",
       "1         NaN  \n",
       "2         NaN  \n",
       "3         NaN  \n",
       "4         NaN  "
      ]
     },
     "execution_count": 565,
     "metadata": {},
     "output_type": "execute_result"
    }
   ],
   "source": [
    "data.head(5)"
   ]
  },
  {
   "cell_type": "code",
   "execution_count": 566,
   "metadata": {},
   "outputs": [
    {
     "data": {
      "text/plain": [
       "NAME                 object\n",
       "DATEPUBLIC           object\n",
       "MARKETVAL            object\n",
       "TRADEVOLUME           int64\n",
       "BETAESTIMATE          int64\n",
       "UPDOWN10DB4EARN      object\n",
       "VARIANCE             object\n",
       "10DAYSAFTER          object\n",
       "GAIN_YN10             int64\n",
       "20DAYSOUT            object\n",
       "GAINY/N20             int64\n",
       "30DAYSOUT            object\n",
       "GAINY/N30             int64\n",
       "DRIFTSCORE            int64\n",
       "EarningsPerShare    float64\n",
       "REVQ1               float64\n",
       "REVQ2               float64\n",
       "REVGROWTH           float64\n",
       "dtype: object"
      ]
     },
     "execution_count": 566,
     "metadata": {},
     "output_type": "execute_result"
    }
   ],
   "source": [
    "data.dtypes"
   ]
  },
  {
   "cell_type": "code",
   "execution_count": 567,
   "metadata": {},
   "outputs": [],
   "source": [
    "df = data[['NAME','DATEPUBLIC','MARKETVAL','VARIANCE','UPDOWN10DB4EARN','10DAYSAFTER','DRIFTSCORE','GAIN_YN10']]\n"
   ]
  },
  {
   "cell_type": "code",
   "execution_count": null,
   "metadata": {},
   "outputs": [],
   "source": []
  },
  {
   "cell_type": "code",
   "execution_count": null,
   "metadata": {},
   "outputs": [],
   "source": []
  },
  {
   "cell_type": "code",
   "execution_count": 568,
   "metadata": {},
   "outputs": [],
   "source": [
    "import datetime"
   ]
  },
  {
   "cell_type": "code",
   "execution_count": 569,
   "metadata": {},
   "outputs": [],
   "source": [
    "todaydate = datetime.datetime.today()"
   ]
  },
  {
   "cell_type": "code",
   "execution_count": 570,
   "metadata": {},
   "outputs": [
    {
     "name": "stderr",
     "output_type": "stream",
     "text": [
      "/opt/anaconda3/lib/python3.7/site-packages/ipykernel_launcher.py:1: SettingWithCopyWarning: \n",
      "A value is trying to be set on a copy of a slice from a DataFrame.\n",
      "Try using .loc[row_indexer,col_indexer] = value instead\n",
      "\n",
      "See the caveats in the documentation: http://pandas.pydata.org/pandas-docs/stable/user_guide/indexing.html#returning-a-view-versus-a-copy\n",
      "  \"\"\"Entry point for launching an IPython kernel.\n"
     ]
    }
   ],
   "source": [
    "df['AGE'] = (todaydate - pd.to_datetime(df['DATEPUBLIC'])).astype('<m8[Y]')"
   ]
  },
  {
   "cell_type": "code",
   "execution_count": 571,
   "metadata": {},
   "outputs": [
    {
     "data": {
      "text/plain": [
       "NAME                object\n",
       "DATEPUBLIC          object\n",
       "MARKETVAL           object\n",
       "VARIANCE            object\n",
       "UPDOWN10DB4EARN     object\n",
       "10DAYSAFTER         object\n",
       "DRIFTSCORE           int64\n",
       "GAIN_YN10            int64\n",
       "AGE                float64\n",
       "dtype: object"
      ]
     },
     "execution_count": 571,
     "metadata": {},
     "output_type": "execute_result"
    }
   ],
   "source": [
    "df.dtypes"
   ]
  },
  {
   "cell_type": "code",
   "execution_count": 572,
   "metadata": {},
   "outputs": [],
   "source": [
    "def convertMARKETVAL(valueInString):\n",
    "    return float(valueInString.replace(\",\",\"\"))"
   ]
  },
  {
   "cell_type": "code",
   "execution_count": 573,
   "metadata": {},
   "outputs": [
    {
     "name": "stderr",
     "output_type": "stream",
     "text": [
      "/opt/anaconda3/lib/python3.7/site-packages/ipykernel_launcher.py:1: SettingWithCopyWarning: \n",
      "A value is trying to be set on a copy of a slice from a DataFrame.\n",
      "Try using .loc[row_indexer,col_indexer] = value instead\n",
      "\n",
      "See the caveats in the documentation: http://pandas.pydata.org/pandas-docs/stable/user_guide/indexing.html#returning-a-view-versus-a-copy\n",
      "  \"\"\"Entry point for launching an IPython kernel.\n"
     ]
    }
   ],
   "source": [
    "df['MARKETVAL'] = df['MARKETVAL'].apply(convertMARKETVAL)"
   ]
  },
  {
   "cell_type": "code",
   "execution_count": 574,
   "metadata": {},
   "outputs": [
    {
     "name": "stderr",
     "output_type": "stream",
     "text": [
      "/opt/anaconda3/lib/python3.7/site-packages/ipykernel_launcher.py:1: SettingWithCopyWarning: \n",
      "A value is trying to be set on a copy of a slice from a DataFrame.\n",
      "Try using .loc[row_indexer,col_indexer] = value instead\n",
      "\n",
      "See the caveats in the documentation: http://pandas.pydata.org/pandas-docs/stable/user_guide/indexing.html#returning-a-view-versus-a-copy\n",
      "  \"\"\"Entry point for launching an IPython kernel.\n"
     ]
    }
   ],
   "source": [
    "df['UPDOWN10DB4EARN'] = df['UPDOWN10DB4EARN'].apply(lambda x: np.nan if x in ['-'] else x[:-1]).astype(float)/100"
   ]
  },
  {
   "cell_type": "code",
   "execution_count": 575,
   "metadata": {},
   "outputs": [
    {
     "name": "stderr",
     "output_type": "stream",
     "text": [
      "/opt/anaconda3/lib/python3.7/site-packages/ipykernel_launcher.py:1: SettingWithCopyWarning: \n",
      "A value is trying to be set on a copy of a slice from a DataFrame.\n",
      "Try using .loc[row_indexer,col_indexer] = value instead\n",
      "\n",
      "See the caveats in the documentation: http://pandas.pydata.org/pandas-docs/stable/user_guide/indexing.html#returning-a-view-versus-a-copy\n",
      "  \"\"\"Entry point for launching an IPython kernel.\n"
     ]
    }
   ],
   "source": [
    "df['VARIANCE'] = df['VARIANCE'].str.rstrip('%').astype('float') / 100.0"
   ]
  },
  {
   "cell_type": "code",
   "execution_count": 576,
   "metadata": {},
   "outputs": [
    {
     "name": "stderr",
     "output_type": "stream",
     "text": [
      "/opt/anaconda3/lib/python3.7/site-packages/ipykernel_launcher.py:1: SettingWithCopyWarning: \n",
      "A value is trying to be set on a copy of a slice from a DataFrame.\n",
      "Try using .loc[row_indexer,col_indexer] = value instead\n",
      "\n",
      "See the caveats in the documentation: http://pandas.pydata.org/pandas-docs/stable/user_guide/indexing.html#returning-a-view-versus-a-copy\n",
      "  \"\"\"Entry point for launching an IPython kernel.\n"
     ]
    }
   ],
   "source": [
    "df['10DAYSAFTER'] = df['10DAYSAFTER'].str.rstrip('%').astype('float') / 100.0"
   ]
  },
  {
   "cell_type": "code",
   "execution_count": 577,
   "metadata": {},
   "outputs": [
    {
     "name": "stderr",
     "output_type": "stream",
     "text": [
      "/opt/anaconda3/lib/python3.7/site-packages/ipykernel_launcher.py:3: SettingWithCopyWarning: \n",
      "A value is trying to be set on a copy of a slice from a DataFrame.\n",
      "Try using .loc[row_indexer,col_indexer] = value instead\n",
      "\n",
      "See the caveats in the documentation: http://pandas.pydata.org/pandas-docs/stable/user_guide/indexing.html#returning-a-view-versus-a-copy\n",
      "  This is separate from the ipykernel package so we can avoid doing imports until\n"
     ]
    }
   ],
   "source": [
    "criteria = [df['VARIANCE']<=0, df['VARIANCE']>=0]\n",
    "values = [0,1]\n",
    "df['BEATEXPECTED'] = np.select(criteria,values)"
   ]
  },
  {
   "cell_type": "code",
   "execution_count": 578,
   "metadata": {},
   "outputs": [
    {
     "data": {
      "text/html": [
       "<div>\n",
       "<style scoped>\n",
       "    .dataframe tbody tr th:only-of-type {\n",
       "        vertical-align: middle;\n",
       "    }\n",
       "\n",
       "    .dataframe tbody tr th {\n",
       "        vertical-align: top;\n",
       "    }\n",
       "\n",
       "    .dataframe thead th {\n",
       "        text-align: right;\n",
       "    }\n",
       "</style>\n",
       "<table border=\"1\" class=\"dataframe\">\n",
       "  <thead>\n",
       "    <tr style=\"text-align: right;\">\n",
       "      <th></th>\n",
       "      <th>NAME</th>\n",
       "      <th>DATEPUBLIC</th>\n",
       "      <th>MARKETVAL</th>\n",
       "      <th>VARIANCE</th>\n",
       "      <th>UPDOWN10DB4EARN</th>\n",
       "      <th>10DAYSAFTER</th>\n",
       "      <th>DRIFTSCORE</th>\n",
       "      <th>GAIN_YN10</th>\n",
       "      <th>AGE</th>\n",
       "      <th>BEATEXPECTED</th>\n",
       "    </tr>\n",
       "  </thead>\n",
       "  <tbody>\n",
       "    <tr>\n",
       "      <td>0</td>\n",
       "      <td>Royal Caribbean Cruises Ltd.</td>\n",
       "      <td>4/28/1993</td>\n",
       "      <td>6757.0</td>\n",
       "      <td>-0.0026</td>\n",
       "      <td>-0.1377</td>\n",
       "      <td>-0.0592</td>\n",
       "      <td>0</td>\n",
       "      <td>0</td>\n",
       "      <td>26.0</td>\n",
       "      <td>0</td>\n",
       "    </tr>\n",
       "    <tr>\n",
       "      <td>1</td>\n",
       "      <td>Marathon Petroleum Corporation</td>\n",
       "      <td>6/23/2011</td>\n",
       "      <td>16198.0</td>\n",
       "      <td>0.8286</td>\n",
       "      <td>-0.1122</td>\n",
       "      <td>0.0996</td>\n",
       "      <td>1</td>\n",
       "      <td>1</td>\n",
       "      <td>8.0</td>\n",
       "      <td>1</td>\n",
       "    </tr>\n",
       "    <tr>\n",
       "      <td>2</td>\n",
       "      <td>Helmerich &amp; Payne, Inc.</td>\n",
       "      <td>11/05/1984</td>\n",
       "      <td>1906.5</td>\n",
       "      <td>0.5968</td>\n",
       "      <td>-0.0971</td>\n",
       "      <td>0.0910</td>\n",
       "      <td>1</td>\n",
       "      <td>1</td>\n",
       "      <td>35.0</td>\n",
       "      <td>1</td>\n",
       "    </tr>\n",
       "    <tr>\n",
       "      <td>3</td>\n",
       "      <td>Boeing Company</td>\n",
       "      <td>11/05/1984</td>\n",
       "      <td>95848.5</td>\n",
       "      <td>-2.7671</td>\n",
       "      <td>-0.0414</td>\n",
       "      <td>0.0790</td>\n",
       "      <td>1</td>\n",
       "      <td>1</td>\n",
       "      <td>35.0</td>\n",
       "      <td>0</td>\n",
       "    </tr>\n",
       "    <tr>\n",
       "      <td>4</td>\n",
       "      <td>American Airlines Group, Inc.</td>\n",
       "      <td>12/09/2013</td>\n",
       "      <td>6096.9</td>\n",
       "      <td>0.0078</td>\n",
       "      <td>0.0037</td>\n",
       "      <td>-0.0174</td>\n",
       "      <td>0</td>\n",
       "      <td>0</td>\n",
       "      <td>6.0</td>\n",
       "      <td>1</td>\n",
       "    </tr>\n",
       "  </tbody>\n",
       "</table>\n",
       "</div>"
      ],
      "text/plain": [
       "                             NAME  DATEPUBLIC  MARKETVAL  VARIANCE  \\\n",
       "0    Royal Caribbean Cruises Ltd.   4/28/1993     6757.0   -0.0026   \n",
       "1  Marathon Petroleum Corporation   6/23/2011    16198.0    0.8286   \n",
       "2         Helmerich & Payne, Inc.  11/05/1984     1906.5    0.5968   \n",
       "3                  Boeing Company  11/05/1984    95848.5   -2.7671   \n",
       "4   American Airlines Group, Inc.  12/09/2013     6096.9    0.0078   \n",
       "\n",
       "   UPDOWN10DB4EARN  10DAYSAFTER  DRIFTSCORE  GAIN_YN10   AGE  BEATEXPECTED  \n",
       "0          -0.1377      -0.0592           0          0  26.0             0  \n",
       "1          -0.1122       0.0996           1          1   8.0             1  \n",
       "2          -0.0971       0.0910           1          1  35.0             1  \n",
       "3          -0.0414       0.0790           1          1  35.0             0  \n",
       "4           0.0037      -0.0174           0          0   6.0             1  "
      ]
     },
     "execution_count": 578,
     "metadata": {},
     "output_type": "execute_result"
    }
   ],
   "source": [
    "df.head()"
   ]
  },
  {
   "cell_type": "code",
   "execution_count": 579,
   "metadata": {},
   "outputs": [
    {
     "data": {
      "text/plain": [
       "NAME                object\n",
       "DATEPUBLIC          object\n",
       "MARKETVAL          float64\n",
       "VARIANCE           float64\n",
       "UPDOWN10DB4EARN    float64\n",
       "10DAYSAFTER        float64\n",
       "DRIFTSCORE           int64\n",
       "GAIN_YN10            int64\n",
       "AGE                float64\n",
       "BEATEXPECTED         int64\n",
       "dtype: object"
      ]
     },
     "execution_count": 579,
     "metadata": {},
     "output_type": "execute_result"
    }
   ],
   "source": [
    "df.dtypes"
   ]
  },
  {
   "cell_type": "code",
   "execution_count": 580,
   "metadata": {},
   "outputs": [
    {
     "data": {
      "text/html": [
       "<div>\n",
       "<style scoped>\n",
       "    .dataframe tbody tr th:only-of-type {\n",
       "        vertical-align: middle;\n",
       "    }\n",
       "\n",
       "    .dataframe tbody tr th {\n",
       "        vertical-align: top;\n",
       "    }\n",
       "\n",
       "    .dataframe thead th {\n",
       "        text-align: right;\n",
       "    }\n",
       "</style>\n",
       "<table border=\"1\" class=\"dataframe\">\n",
       "  <thead>\n",
       "    <tr style=\"text-align: right;\">\n",
       "      <th></th>\n",
       "      <th>MARKETVAL</th>\n",
       "      <th>VARIANCE</th>\n",
       "      <th>UPDOWN10DB4EARN</th>\n",
       "      <th>10DAYSAFTER</th>\n",
       "      <th>DRIFTSCORE</th>\n",
       "      <th>GAIN_YN10</th>\n",
       "      <th>AGE</th>\n",
       "      <th>BEATEXPECTED</th>\n",
       "    </tr>\n",
       "  </thead>\n",
       "  <tbody>\n",
       "    <tr>\n",
       "      <td>MARKETVAL</td>\n",
       "      <td>1.000000</td>\n",
       "      <td>0.015359</td>\n",
       "      <td>0.075428</td>\n",
       "      <td>0.144924</td>\n",
       "      <td>0.093090</td>\n",
       "      <td>0.133964</td>\n",
       "      <td>0.044213</td>\n",
       "      <td>0.068449</td>\n",
       "    </tr>\n",
       "    <tr>\n",
       "      <td>VARIANCE</td>\n",
       "      <td>0.015359</td>\n",
       "      <td>1.000000</td>\n",
       "      <td>0.034846</td>\n",
       "      <td>-0.027013</td>\n",
       "      <td>-0.022150</td>\n",
       "      <td>-0.057291</td>\n",
       "      <td>0.016532</td>\n",
       "      <td>0.087915</td>\n",
       "    </tr>\n",
       "    <tr>\n",
       "      <td>UPDOWN10DB4EARN</td>\n",
       "      <td>0.075428</td>\n",
       "      <td>0.034846</td>\n",
       "      <td>1.000000</td>\n",
       "      <td>0.230501</td>\n",
       "      <td>0.073910</td>\n",
       "      <td>0.065814</td>\n",
       "      <td>0.011955</td>\n",
       "      <td>-0.007170</td>\n",
       "    </tr>\n",
       "    <tr>\n",
       "      <td>10DAYSAFTER</td>\n",
       "      <td>0.144924</td>\n",
       "      <td>-0.027013</td>\n",
       "      <td>0.230501</td>\n",
       "      <td>1.000000</td>\n",
       "      <td>0.380368</td>\n",
       "      <td>0.602883</td>\n",
       "      <td>0.022621</td>\n",
       "      <td>0.072678</td>\n",
       "    </tr>\n",
       "    <tr>\n",
       "      <td>DRIFTSCORE</td>\n",
       "      <td>0.093090</td>\n",
       "      <td>-0.022150</td>\n",
       "      <td>0.073910</td>\n",
       "      <td>0.380368</td>\n",
       "      <td>1.000000</td>\n",
       "      <td>0.680045</td>\n",
       "      <td>-0.016862</td>\n",
       "      <td>-0.017294</td>\n",
       "    </tr>\n",
       "    <tr>\n",
       "      <td>GAIN_YN10</td>\n",
       "      <td>0.133964</td>\n",
       "      <td>-0.057291</td>\n",
       "      <td>0.065814</td>\n",
       "      <td>0.602883</td>\n",
       "      <td>0.680045</td>\n",
       "      <td>1.000000</td>\n",
       "      <td>0.010284</td>\n",
       "      <td>0.035892</td>\n",
       "    </tr>\n",
       "    <tr>\n",
       "      <td>AGE</td>\n",
       "      <td>0.044213</td>\n",
       "      <td>0.016532</td>\n",
       "      <td>0.011955</td>\n",
       "      <td>0.022621</td>\n",
       "      <td>-0.016862</td>\n",
       "      <td>0.010284</td>\n",
       "      <td>1.000000</td>\n",
       "      <td>0.038393</td>\n",
       "    </tr>\n",
       "    <tr>\n",
       "      <td>BEATEXPECTED</td>\n",
       "      <td>0.068449</td>\n",
       "      <td>0.087915</td>\n",
       "      <td>-0.007170</td>\n",
       "      <td>0.072678</td>\n",
       "      <td>-0.017294</td>\n",
       "      <td>0.035892</td>\n",
       "      <td>0.038393</td>\n",
       "      <td>1.000000</td>\n",
       "    </tr>\n",
       "  </tbody>\n",
       "</table>\n",
       "</div>"
      ],
      "text/plain": [
       "                 MARKETVAL  VARIANCE  UPDOWN10DB4EARN  10DAYSAFTER  \\\n",
       "MARKETVAL         1.000000  0.015359         0.075428     0.144924   \n",
       "VARIANCE          0.015359  1.000000         0.034846    -0.027013   \n",
       "UPDOWN10DB4EARN   0.075428  0.034846         1.000000     0.230501   \n",
       "10DAYSAFTER       0.144924 -0.027013         0.230501     1.000000   \n",
       "DRIFTSCORE        0.093090 -0.022150         0.073910     0.380368   \n",
       "GAIN_YN10         0.133964 -0.057291         0.065814     0.602883   \n",
       "AGE               0.044213  0.016532         0.011955     0.022621   \n",
       "BEATEXPECTED      0.068449  0.087915        -0.007170     0.072678   \n",
       "\n",
       "                 DRIFTSCORE  GAIN_YN10       AGE  BEATEXPECTED  \n",
       "MARKETVAL          0.093090   0.133964  0.044213      0.068449  \n",
       "VARIANCE          -0.022150  -0.057291  0.016532      0.087915  \n",
       "UPDOWN10DB4EARN    0.073910   0.065814  0.011955     -0.007170  \n",
       "10DAYSAFTER        0.380368   0.602883  0.022621      0.072678  \n",
       "DRIFTSCORE         1.000000   0.680045 -0.016862     -0.017294  \n",
       "GAIN_YN10          0.680045   1.000000  0.010284      0.035892  \n",
       "AGE               -0.016862   0.010284  1.000000      0.038393  \n",
       "BEATEXPECTED      -0.017294   0.035892  0.038393      1.000000  "
      ]
     },
     "execution_count": 580,
     "metadata": {},
     "output_type": "execute_result"
    }
   ],
   "source": [
    "df.corr()"
   ]
  },
  {
   "cell_type": "code",
   "execution_count": 581,
   "metadata": {},
   "outputs": [
    {
     "data": {
      "text/plain": [
       "1    237\n",
       "0    225\n",
       "2     33\n",
       "3      5\n",
       "Name: DRIFTSCORE, dtype: int64"
      ]
     },
     "execution_count": 581,
     "metadata": {},
     "output_type": "execute_result"
    }
   ],
   "source": [
    "df['DRIFTSCORE'].value_counts()"
   ]
  },
  {
   "cell_type": "code",
   "execution_count": 582,
   "metadata": {},
   "outputs": [
    {
     "data": {
      "image/png": "[encoded data removed]",
      "text/plain": [
       "<Figure size 432x288 with 1 Axes>"
      ]
     },
     "metadata": {},
     "output_type": "display_data"
    }
   ],
   "source": [
    "sns.countplot(x='DRIFTSCORE',data=df, palette='hls')\n",
    "plt.show()"
   ]
  },
  {
   "cell_type": "code",
   "execution_count": 586,
   "metadata": {},
   "outputs": [
    {
     "data": {
      "image/png": "[encoded data removed]",
      "text/plain": [
       "<Figure size 432x288 with 1 Axes>"
      ]
     },
     "metadata": {
      "needs_background": "light"
     },
     "output_type": "display_data"
    }
   ],
   "source": [
    "sns.countplot(x='GAIN_YN10',data=df, palette='hls')\n",
    "plt.show()"
   ]
  },
  {
   "cell_type": "code",
   "execution_count": 587,
   "metadata": {},
   "outputs": [
    {
     "data": {
      "text/plain": [
       "Text(0, 0.5, 'Frequency of Drift')"
      ]
     },
     "execution_count": 587,
     "metadata": {},
     "output_type": "execute_result"
    },
    {
     "data": {
      "image/png": "[encoded data removed]",
      "text/plain": [
       "<Figure size 432x288 with 1 Axes>"
      ]
     },
     "metadata": {
      "needs_background": "light"
     },
     "output_type": "display_data"
    }
   ],
   "source": [
    "%matplotlib inline\n",
    "pd.crosstab(df.GAIN_YN10,df.BEATEXPECTED).plot(kind='bar')\n",
    "plt.title('GAINS X BEAT EXPECTATIONS')\n",
    "plt.xlabel('')\n",
    "plt.ylabel('Frequency of Drift')"
   ]
  },
  {
   "cell_type": "code",
   "execution_count": 585,
   "metadata": {},
   "outputs": [
    {
     "ename": "SyntaxError",
     "evalue": "invalid syntax (<unknown>, line 1)",
     "output_type": "error",
     "traceback": [
      "Traceback \u001b[0;36m(most recent call last)\u001b[0m:\n",
      "  File \u001b[1;32m\"/opt/anaconda3/lib/python3.7/site-packages/IPython/core/interactiveshell.py\"\u001b[0m, line \u001b[1;32m3326\u001b[0m, in \u001b[1;35mrun_code\u001b[0m\n    exec(code_obj, self.user_global_ns, self.user_ns)\n",
      "  File \u001b[1;32m\"<ipython-input-585-b6ed64e76d57>\"\u001b[0m, line \u001b[1;32m1\u001b[0m, in \u001b[1;35m<module>\u001b[0m\n    model = smf.ols(formula = '10DAYSOUT ~ VARIANCE', data = df).fit()\n",
      "  File \u001b[1;32m\"/opt/anaconda3/lib/python3.7/site-packages/statsmodels/base/model.py\"\u001b[0m, line \u001b[1;32m159\u001b[0m, in \u001b[1;35mfrom_formula\u001b[0m\n    missing=missing)\n",
      "  File \u001b[1;32m\"/opt/anaconda3/lib/python3.7/site-packages/statsmodels/formula/formulatools.py\"\u001b[0m, line \u001b[1;32m65\u001b[0m, in \u001b[1;35mhandle_formula_data\u001b[0m\n    NA_action=na_action)\n",
      "  File \u001b[1;32m\"/opt/anaconda3/lib/python3.7/site-packages/patsy/highlevel.py\"\u001b[0m, line \u001b[1;32m310\u001b[0m, in \u001b[1;35mdmatrices\u001b[0m\n    NA_action, return_type)\n",
      "  File \u001b[1;32m\"/opt/anaconda3/lib/python3.7/site-packages/patsy/highlevel.py\"\u001b[0m, line \u001b[1;32m165\u001b[0m, in \u001b[1;35m_do_highlevel_design\u001b[0m\n    NA_action)\n",
      "  File \u001b[1;32m\"/opt/anaconda3/lib/python3.7/site-packages/patsy/highlevel.py\"\u001b[0m, line \u001b[1;32m70\u001b[0m, in \u001b[1;35m_try_incr_builders\u001b[0m\n    NA_action)\n",
      "  File \u001b[1;32m\"/opt/anaconda3/lib/python3.7/site-packages/patsy/build.py\"\u001b[0m, line \u001b[1;32m689\u001b[0m, in \u001b[1;35mdesign_matrix_builders\u001b[0m\n    factor_states = _factors_memorize(all_factors, data_iter_maker, eval_env)\n",
      "  File \u001b[1;32m\"/opt/anaconda3/lib/python3.7/site-packages/patsy/build.py\"\u001b[0m, line \u001b[1;32m354\u001b[0m, in \u001b[1;35m_factors_memorize\u001b[0m\n    which_pass = factor.memorize_passes_needed(state, eval_env)\n",
      "  File \u001b[1;32m\"/opt/anaconda3/lib/python3.7/site-packages/patsy/eval.py\"\u001b[0m, line \u001b[1;32m474\u001b[0m, in \u001b[1;35mmemorize_passes_needed\u001b[0m\n    subset_names = [name for name in ast_names(self.code)\n",
      "  File \u001b[1;32m\"/opt/anaconda3/lib/python3.7/site-packages/patsy/eval.py\"\u001b[0m, line \u001b[1;32m474\u001b[0m, in \u001b[1;35m<listcomp>\u001b[0m\n    subset_names = [name for name in ast_names(self.code)\n",
      "  File \u001b[1;32m\"/opt/anaconda3/lib/python3.7/site-packages/patsy/eval.py\"\u001b[0m, line \u001b[1;32m105\u001b[0m, in \u001b[1;35mast_names\u001b[0m\n    for node in ast.walk(ast.parse(code)):\n",
      "\u001b[0;36m  File \u001b[0;32m\"/opt/anaconda3/lib/python3.7/ast.py\"\u001b[0;36m, line \u001b[0;32m35\u001b[0;36m, in \u001b[0;35mparse\u001b[0;36m\u001b[0m\n\u001b[0;31m    return compile(source, filename, mode, PyCF_ONLY_AST)\u001b[0m\n",
      "\u001b[0;36m  File \u001b[0;32m\"<unknown>\"\u001b[0;36m, line \u001b[0;32m1\u001b[0m\n\u001b[0;31m    10 DAYSOUT\u001b[0m\n\u001b[0m             ^\u001b[0m\n\u001b[0;31mSyntaxError\u001b[0m\u001b[0;31m:\u001b[0m invalid syntax\n"
     ]
    }
   ],
   "source": [
    "model = smf.ols(formula = '10DAYSOUT ~ VARIANCE', data = df).fit()\n",
    "\n",
    "model.summary()"
   ]
  },
  {
   "cell_type": "code",
   "execution_count": null,
   "metadata": {},
   "outputs": [],
   "source": []
  }
 ],
 "metadata": {
  "kernelspec": {
   "display_name": "Python 3",
   "language": "python",
   "name": "python3"
  },
  "language_info": {
   "codemirror_mode": {
    "name": "ipython",
    "version": 3
   },
   "file_extension": ".py",
   "mimetype": "text/x-python",
   "name": "python",
   "nbconvert_exporter": "python",
   "pygments_lexer": "ipython3",
   "version": "3.7.4"
  }
 },
 "nbformat": 4,
 "nbformat_minor": 2
}
